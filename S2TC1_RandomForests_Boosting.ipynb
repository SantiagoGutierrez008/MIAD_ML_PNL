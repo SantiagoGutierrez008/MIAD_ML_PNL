{
 "cells": [
  {
   "cell_type": "markdown",
   "metadata": {},
   "source": [
    "![image info](https://raw.githubusercontent.com/albahnsen/MIAD_ML_and_NLP/main/images/banner_1.png)"
   ]
  },
  {
   "cell_type": "markdown",
   "metadata": {},
   "source": [
    "# Taller: Construcción e implementación de modelos Bagging, Random Forest y XGBoost\n",
    "\n",
    "En este taller podrán poner en práctica sus conocimientos sobre la construcción e implementación de modelos de Bagging, Random Forest y XGBoost. El taller está constituido por 8 puntos, en los cuales deberan seguir las intrucciones de cada numeral para su desarrollo."
   ]
  },
  {
   "cell_type": "markdown",
   "metadata": {},
   "source": [
    "## Datos predicción precio de automóviles\n",
    "\n",
    "En este taller se usará el conjunto de datos de Car Listings de Kaggle donde cada observación representa el precio de un automóvil teniendo en cuenta distintas variables como año, marca, modelo, entre otras. El objetivo es predecir el precio del automóvil. Para más detalles puede visitar el siguiente enlace: [datos](https://www.kaggle.com/jpayne/852k-used-car-listings)."
   ]
  },
  {
   "cell_type": "code",
   "execution_count": 1,
   "metadata": {},
   "outputs": [],
   "source": [
    "import warnings\n",
    "warnings.filterwarnings('ignore')\n"
   ]
  },
  {
   "cell_type": "code",
   "execution_count": 2,
   "metadata": {},
   "outputs": [
    {
     "data": {
      "text/html": [
       "<div>\n",
       "<style scoped>\n",
       "    .dataframe tbody tr th:only-of-type {\n",
       "        vertical-align: middle;\n",
       "    }\n",
       "\n",
       "    .dataframe tbody tr th {\n",
       "        vertical-align: top;\n",
       "    }\n",
       "\n",
       "    .dataframe thead th {\n",
       "        text-align: right;\n",
       "    }\n",
       "</style>\n",
       "<table border=\"1\" class=\"dataframe\">\n",
       "  <thead>\n",
       "    <tr style=\"text-align: right;\">\n",
       "      <th></th>\n",
       "      <th>Price</th>\n",
       "      <th>Year</th>\n",
       "      <th>Mileage</th>\n",
       "      <th>M_Camry</th>\n",
       "      <th>M_Camry4dr</th>\n",
       "      <th>M_CamryBase</th>\n",
       "      <th>M_CamryL</th>\n",
       "      <th>M_CamryLE</th>\n",
       "      <th>M_CamrySE</th>\n",
       "      <th>M_CamryXLE</th>\n",
       "    </tr>\n",
       "  </thead>\n",
       "  <tbody>\n",
       "    <tr>\n",
       "      <th>7</th>\n",
       "      <td>21995</td>\n",
       "      <td>2014</td>\n",
       "      <td>6480</td>\n",
       "      <td>0</td>\n",
       "      <td>0</td>\n",
       "      <td>0</td>\n",
       "      <td>1</td>\n",
       "      <td>0</td>\n",
       "      <td>0</td>\n",
       "      <td>0</td>\n",
       "    </tr>\n",
       "    <tr>\n",
       "      <th>11</th>\n",
       "      <td>13995</td>\n",
       "      <td>2014</td>\n",
       "      <td>39972</td>\n",
       "      <td>0</td>\n",
       "      <td>0</td>\n",
       "      <td>0</td>\n",
       "      <td>0</td>\n",
       "      <td>1</td>\n",
       "      <td>0</td>\n",
       "      <td>0</td>\n",
       "    </tr>\n",
       "    <tr>\n",
       "      <th>167</th>\n",
       "      <td>17941</td>\n",
       "      <td>2016</td>\n",
       "      <td>18989</td>\n",
       "      <td>0</td>\n",
       "      <td>0</td>\n",
       "      <td>0</td>\n",
       "      <td>0</td>\n",
       "      <td>0</td>\n",
       "      <td>1</td>\n",
       "      <td>0</td>\n",
       "    </tr>\n",
       "    <tr>\n",
       "      <th>225</th>\n",
       "      <td>12493</td>\n",
       "      <td>2014</td>\n",
       "      <td>51330</td>\n",
       "      <td>0</td>\n",
       "      <td>0</td>\n",
       "      <td>0</td>\n",
       "      <td>1</td>\n",
       "      <td>0</td>\n",
       "      <td>0</td>\n",
       "      <td>0</td>\n",
       "    </tr>\n",
       "    <tr>\n",
       "      <th>270</th>\n",
       "      <td>7994</td>\n",
       "      <td>2007</td>\n",
       "      <td>116065</td>\n",
       "      <td>0</td>\n",
       "      <td>1</td>\n",
       "      <td>0</td>\n",
       "      <td>0</td>\n",
       "      <td>0</td>\n",
       "      <td>0</td>\n",
       "      <td>0</td>\n",
       "    </tr>\n",
       "  </tbody>\n",
       "</table>\n",
       "</div>"
      ],
      "text/plain": [
       "     Price  Year  Mileage  M_Camry  M_Camry4dr  M_CamryBase  M_CamryL  \\\n",
       "7    21995  2014     6480        0           0            0         1   \n",
       "11   13995  2014    39972        0           0            0         0   \n",
       "167  17941  2016    18989        0           0            0         0   \n",
       "225  12493  2014    51330        0           0            0         1   \n",
       "270   7994  2007   116065        0           1            0         0   \n",
       "\n",
       "     M_CamryLE  M_CamrySE  M_CamryXLE  \n",
       "7            0          0           0  \n",
       "11           1          0           0  \n",
       "167          0          1           0  \n",
       "225          0          0           0  \n",
       "270          0          0           0  "
      ]
     },
     "execution_count": 2,
     "metadata": {},
     "output_type": "execute_result"
    }
   ],
   "source": [
    "# Importación de librerías\n",
    "%matplotlib inline\n",
    "import pandas as pd\n",
    "import numpy as np\n",
    "import matplotlib.pyplot as plt\n",
    "import math\n",
    "import xgboost\n",
    "from xgboost import XGBRegressor\n",
    "from sklearn.metrics import mean_absolute_error\n",
    "\n",
    "# Lectura de la información de archivo .csv\n",
    "data = pd.read_csv('https://raw.githubusercontent.com/albahnsen/MIAD_ML_and_NLP/main/datasets/dataTrain_carListings.zip')\n",
    "\n",
    "# Preprocesamiento de datos para el taller\n",
    "data = data.loc[data['Model'].str.contains('Camry')].drop(['Make', 'State'], axis=1)\n",
    "data = data.join(pd.get_dummies(data['Model'], prefix='M'))\n",
    "data = data.drop(['Model'], axis=1)\n",
    "\n",
    "# Visualización dataset\n",
    "data.head()"
   ]
  },
  {
   "cell_type": "code",
   "execution_count": 3,
   "metadata": {},
   "outputs": [],
   "source": [
    "# Separación de variables predictoras (X) y variable de interés (y)\n",
    "y = data['Price']\n",
    "X = data.drop(['Price'], axis=1)\n"
   ]
  },
  {
   "cell_type": "code",
   "execution_count": 4,
   "metadata": {},
   "outputs": [],
   "source": [
    "# Separación de datos en set de entrenamiento y test\n",
    "from sklearn.model_selection import train_test_split\n",
    "X_train, X_test, y_train, y_test = train_test_split(X, y, test_size=0.33, random_state=42)\n"
   ]
  },
  {
   "cell_type": "markdown",
   "metadata": {},
   "source": [
    "### Punto 1 - Árbol de decisión manual\n",
    "\n",
    "En la celda 1 creen un árbol de decisión **manualmente**  que considere los set de entrenamiento y test definidos anteriormente y presenten el RMSE y MAE del modelo en el set de test."
   ]
  },
  {
   "cell_type": "code",
   "execution_count": 5,
   "metadata": {},
   "outputs": [],
   "source": [
    "# Celda 1\n",
    "# Creación de variables por default\n",
    "max_depth = None\n",
    "num_pct = 10\n",
    "max_features = None\n",
    "min_gain=7000\n",
    "\n",
    "# Definición de la función que calcula el SSE (Sum Squaered Error).\n",
    "def SSE(y):\n",
    "    if y.shape[0] == 0:\n",
    "        return 0\n",
    "    else:\n",
    "        return ((y - y.mean())**2).sum()\n",
    "\n",
    "# Definición de la función MSE_minimization para calular la ganancia de una variable predictora j dado el punto de corte k\n",
    "def MSE_Minimization(X_col, y, split):\n",
    "    \n",
    "    filter_l = X_col <= split\n",
    "    y_l = y.loc[filter_l]\n",
    "    y_r = y.loc[~filter_l]\n",
    "    SSE_y = SSE(y)\n",
    "    SSE_l = SSE(y_l)\n",
    "    SSE_r = SSE(y_r)\n",
    "    \n",
    "    # Minimizing SSE\n",
    "    SSE_min_ = SSE_l + SSE_r\n",
    "    # We took the sqrt root just to made results easy to compare! It does not affect the algorithm.\n",
    "    # Indeed this will make the algorithm to converge faster\n",
    "    return np.sqrt(np.abs(SSE_y - SSE_min_))\n",
    "\n",
    "# Definición de la función que obtiene el mejor split evaluando todas las variables\n",
    "\n",
    "def best_split(X, y, num_pct=10):\n",
    "    \n",
    "    features = range(X.shape[1])\n",
    "    \n",
    "    best_split = [0, 0, 0]  # j, split, gain\n",
    "    \n",
    "    # Para todas las varibles \n",
    "    for j in features:\n",
    "        \n",
    "        splits = np.percentile(X.iloc[:, j], np.arange(0, 100, 100.0 / (num_pct+1)).tolist())\n",
    "        splits = np.unique(splits)[1:]\n",
    "        # if splits.shape[0] == 1:\n",
    "        #     splits = splits\n",
    "        # elif splits.shape[0] > 1:\n",
    "        #     splits = splits[1:]\n",
    "        # else:\n",
    "        #     splits = np.array([0]).astype(float)\n",
    "        \n",
    "        # Para cada partición\n",
    "        for split in splits:\n",
    "            gain = MSE_Minimization(X.iloc[:, j], y, split)\n",
    "                        \n",
    "            if gain >  best_split[2]:\n",
    "                best_split = [j, split, gain]\n",
    "    \n",
    "    return best_split\n",
    "\n",
    "# Definición de la función tree_grow para hacer un crecimiento recursivo del árbol\n",
    "def tree_grow(X, y, level=0, min_gain=1000, max_depth=None, num_pct=10):\n",
    "    \n",
    "    # Si solo es una observación\n",
    "    if X.shape[0] == 1:\n",
    "        tree = dict(y_pred=y.iloc[:1].values[0], level=level, split=-1, n_samples=1, gain=0)\n",
    "        return tree\n",
    "    \n",
    "    # Calcular la mejor división\n",
    "    j, split, gain = best_split(X, y, num_pct)\n",
    "    \n",
    "    # Guardar el árbol y estimar la predicción\n",
    "    y_pred = y.mean() \n",
    "    \n",
    "    tree = dict(y_pred=y_pred, level=level, split=-1, n_samples=X.shape[0], gain=gain)\n",
    "    # Revisar el criterio de parada \n",
    "    if gain < min_gain:\n",
    "        return tree\n",
    "    if max_depth is not None:\n",
    "        if level >= max_depth:\n",
    "            return tree   \n",
    "    \n",
    "    # Continuar creando la partición\n",
    "    filter_l = X.iloc[:, j] < split\n",
    "    X_l, y_l = X.loc[filter_l], y.loc[filter_l]\n",
    "    X_r, y_r = X.loc[~filter_l], y.loc[~filter_l]\n",
    "    tree['split'] = [j, split]\n",
    "\n",
    "    # Siguiente iteración para cada partición\n",
    "    # print(tree)\n",
    "    # print(X_l.shape, y_l.shape, X_r.shape, y_r.shape)\n",
    "    tree['sl'] = tree_grow(X_l, y_l, level + 1, min_gain=min_gain, max_depth=max_depth, num_pct=num_pct)\n",
    "    tree['sr'] = tree_grow(X_r, y_r, level + 1, min_gain=min_gain, max_depth=max_depth, num_pct=num_pct)\n",
    "    \n",
    "    return tree"
   ]
  },
  {
   "cell_type": "code",
   "execution_count": 6,
   "metadata": {},
   "outputs": [
    {
     "data": {
      "text/plain": [
       "{'y_pred': 14538.403716055265,\n",
       " 'level': 0,\n",
       " 'split': [0, 2012.0],\n",
       " 'n_samples': 10495,\n",
       " 'gain': 303719.8446066229,\n",
       " 'sl': {'y_pred': 8773.392311255211,\n",
       "  'level': 1,\n",
       "  'split': [1, 97405.90909090909],\n",
       "  'n_samples': 2159,\n",
       "  'gain': 49344.21337563799,\n",
       "  'sl': {'y_pred': 9937.111111111111,\n",
       "   'level': 2,\n",
       "   'split': [0, 2007.0],\n",
       "   'n_samples': 981,\n",
       "   'gain': 29621.724635160055,\n",
       "   'sl': {'y_pred': 7874.037313432836,\n",
       "    'level': 3,\n",
       "    'split': -1,\n",
       "    'n_samples': 134,\n",
       "    'gain': 6029.0648340830485},\n",
       "   'sr': {'y_pred': 10263.500590318772,\n",
       "    'level': 3,\n",
       "    'split': [0, 2009.0],\n",
       "    'n_samples': 847,\n",
       "    'gain': 19947.84966590238,\n",
       "    'sl': {'y_pred': 9252.123287671233,\n",
       "     'level': 4,\n",
       "     'split': [1, 66836.45454545454],\n",
       "     'n_samples': 219,\n",
       "     'gain': 10368.380537327443,\n",
       "     'sl': {'y_pred': 10392.666666666666,\n",
       "      'level': 5,\n",
       "      'split': [1, 40214.27272727273],\n",
       "      'n_samples': 60,\n",
       "      'gain': 7686.676146381114,\n",
       "      'sl': {'y_pred': 12487.09090909091,\n",
       "       'level': 6,\n",
       "       'split': [2, 0.45454545454545414],\n",
       "       'n_samples': 11,\n",
       "       'gain': 8388.738360192048,\n",
       "       'sl': {'y_pred': 10178.166666666666,\n",
       "        'level': 7,\n",
       "        'split': -1,\n",
       "        'n_samples': 6,\n",
       "        'gain': 984.2866283083739},\n",
       "       'sr': {'y_pred': 15257.8,\n",
       "        'level': 7,\n",
       "        'split': -1,\n",
       "        'n_samples': 5,\n",
       "        'gain': 3177.155981901634}},\n",
       "      'sr': {'y_pred': 9922.489795918367,\n",
       "       'level': 6,\n",
       "       'split': -1,\n",
       "       'n_samples': 49,\n",
       "       'gain': 3710.8626245522255}},\n",
       "     'sr': {'y_pred': 8821.729559748428,\n",
       "      'level': 5,\n",
       "      'split': -1,\n",
       "      'n_samples': 159,\n",
       "      'gain': 4474.048027677437}},\n",
       "    'sr': {'y_pred': 10616.194267515924,\n",
       "     'level': 4,\n",
       "     'split': [1, 69761.0],\n",
       "     'n_samples': 628,\n",
       "     'gain': 14171.90580014012,\n",
       "     'sl': {'y_pred': 11381.26872246696,\n",
       "      'level': 5,\n",
       "      'split': -1,\n",
       "      'n_samples': 227,\n",
       "      'gain': 4962.356602726666},\n",
       "     'sr': {'y_pred': 10183.097256857855,\n",
       "      'level': 5,\n",
       "      'split': [0, 2010.0],\n",
       "      'n_samples': 401,\n",
       "      'gain': 8905.458736510174,\n",
       "      'sl': {'y_pred': 9486.742574257425,\n",
       "       'level': 6,\n",
       "       'split': -1,\n",
       "       'n_samples': 101,\n",
       "       'gain': 4088.569262514227},\n",
       "      'sr': {'y_pred': 10417.536666666667,\n",
       "       'level': 6,\n",
       "       'split': [1, 91766.72727272728],\n",
       "       'n_samples': 300,\n",
       "       'gain': 7425.861410116419,\n",
       "       'sl': {'y_pred': 10680.481651376147,\n",
       "        'level': 7,\n",
       "        'split': -1,\n",
       "        'n_samples': 218,\n",
       "        'gain': 2030.6441074600837},\n",
       "       'sr': {'y_pred': 9718.487804878048,\n",
       "        'level': 7,\n",
       "        'split': -1,\n",
       "        'n_samples': 82,\n",
       "        'gain': 2653.4711908897384}}}}}},\n",
       "  'sr': {'y_pred': 7804.285229202037,\n",
       "   'level': 2,\n",
       "   'split': [0, 2009.0],\n",
       "   'n_samples': 1178,\n",
       "   'gain': 27560.796429901176,\n",
       "   'sl': {'y_pred': 7091.9435736677115,\n",
       "    'level': 3,\n",
       "    'split': [1, 135667.45454545456],\n",
       "    'n_samples': 638,\n",
       "    'gain': 10539.168430085743,\n",
       "    'sl': {'y_pred': 7407.354679802956,\n",
       "     'level': 4,\n",
       "     'split': [0, 2006.0],\n",
       "     'n_samples': 406,\n",
       "     'gain': 9812.119019718511,\n",
       "     'sl': {'y_pred': 6468.2588235294115,\n",
       "      'level': 5,\n",
       "      'split': -1,\n",
       "      'n_samples': 85,\n",
       "      'gain': 2635.1786121070977},\n",
       "     'sr': {'y_pred': 7656.02492211838,\n",
       "      'level': 5,\n",
       "      'split': -1,\n",
       "      'n_samples': 321,\n",
       "      'gain': 3864.511760567324}},\n",
       "    'sr': {'y_pred': 6539.974137931034,\n",
       "     'level': 4,\n",
       "     'split': -1,\n",
       "     'n_samples': 232,\n",
       "     'gain': 3118.7181185957543}},\n",
       "   'sr': {'y_pred': 8645.903703703703,\n",
       "    'level': 3,\n",
       "    'split': [1, 119810.0],\n",
       "    'n_samples': 540,\n",
       "    'gain': 17426.48638318679,\n",
       "    'sl': {'y_pred': 9337.187074829932,\n",
       "     'level': 4,\n",
       "     'split': [0, 2009.909090909091],\n",
       "     'n_samples': 294,\n",
       "     'gain': 8443.119701650461,\n",
       "     'sl': {'y_pred': 8531.825,\n",
       "      'level': 5,\n",
       "      'split': -1,\n",
       "      'n_samples': 80,\n",
       "      'gain': 1391.4470060023302},\n",
       "     'sr': {'y_pred': 9638.257009345794,\n",
       "      'level': 5,\n",
       "      'split': -1,\n",
       "      'n_samples': 214,\n",
       "      'gain': 6420.90534396281}},\n",
       "    'sr': {'y_pred': 7819.735772357723,\n",
       "     'level': 4,\n",
       "     'split': -1,\n",
       "     'n_samples': 246,\n",
       "     'gain': 6653.0406596269495}}}}}"
      ]
     },
     "execution_count": 6,
     "metadata": {},
     "output_type": "execute_result"
    }
   ],
   "source": [
    "tree = tree_grow(X, y, level=0, min_gain=7000, max_depth=max_depth, num_pct=10)\n",
    "sample_tree =  {k: tree[k] for k in list(tree)[:6]}\n",
    "sample_tree\n"
   ]
  },
  {
   "cell_type": "code",
   "execution_count": 7,
   "metadata": {},
   "outputs": [],
   "source": [
    "# Definición de la función tree_predict para hacer predicciones según las variables 'X' y el árbol 'tree'\n",
    "def tree_predict(X, tree):\n",
    "    \n",
    "    predicted = np.ones(X.shape[0])\n",
    "\n",
    "    # Revisar si es el nodo final\n",
    "    if tree['split'] == -1:\n",
    "        predicted = predicted * tree['y_pred']    \n",
    "    else:\n",
    "        \n",
    "        j, split = tree['split']\n",
    "        filter_l = (X.iloc[:, j] < split)\n",
    "        X_l = X.loc[filter_l]\n",
    "        X_r = X.loc[~filter_l]\n",
    "\n",
    "        if X_l.shape[0] == 0:  # Si el nodo izquierdo está vacio solo continua con el derecho \n",
    "            predicted[~filter_l] = tree_predict(X_r, tree['sr'])\n",
    "        elif X_r.shape[0] == 0:  #  Si el nodo derecho está vacio solo continua con el izquierdo\n",
    "            predicted[filter_l] = tree_predict(X_l, tree['sl'])\n",
    "        else:\n",
    "            predicted[filter_l] = tree_predict(X_l, tree['sl'])\n",
    "            predicted[~filter_l] = tree_predict(X_r, tree['sr'])\n",
    "\n",
    "    return predicted\n"
   ]
  },
  {
   "cell_type": "code",
   "execution_count": 8,
   "metadata": {},
   "outputs": [
    {
     "name": "stdout",
     "output_type": "stream",
     "text": [
      "El RMSE sobre el conjunto de Test es de:\n"
     ]
    },
    {
     "data": {
      "text/plain": [
       "1754.355121377251"
      ]
     },
     "execution_count": 8,
     "metadata": {},
     "output_type": "execute_result"
    }
   ],
   "source": [
    "def RMSE_Model(level=0, min_gain = 7000, max_depth= None, num_pct = 10):\n",
    "    tree = tree_grow(X_train, y_train, level=level, min_gain=min_gain, max_depth=max_depth, num_pct=num_pct)\n",
    "    y_pred = tree_predict(X_test, tree)\n",
    "    \n",
    "    return np.sqrt(np.mean(np.square(y_pred - y_test)))\n",
    "print('El RMSE sobre el conjunto de Test es de:')\n",
    "RMSE_Model()\n"
   ]
  },
  {
   "cell_type": "code",
   "execution_count": 9,
   "metadata": {},
   "outputs": [
    {
     "name": "stdout",
     "output_type": "stream",
     "text": [
      "El MAE sobre el conjunto de Test es de:\n"
     ]
    },
    {
     "data": {
      "text/plain": [
       "1307.5953681509916"
      ]
     },
     "execution_count": 9,
     "metadata": {},
     "output_type": "execute_result"
    }
   ],
   "source": [
    "def MAE_Model(level=0, min_gain = 7000, max_depth= None, num_pct = 10):\n",
    "    tree = tree_grow(X_train, y_train, level=level, min_gain=min_gain, max_depth=max_depth, num_pct=num_pct)\n",
    "    y_pred = tree_predict(X_test, tree)\n",
    "    \n",
    "    return np.mean(np.abs(y_pred - y_test))\n",
    "print('El MAE sobre el conjunto de Test es de:')\n",
    "MAE_Model()\n"
   ]
  },
  {
   "cell_type": "code",
   "execution_count": 10,
   "metadata": {},
   "outputs": [
    {
     "data": {
      "image/png": "[encoded data removed]",
      "text/plain": [
       "<Figure size 640x480 with 1 Axes>"
      ]
     },
     "metadata": {},
     "output_type": "display_data"
    }
   ],
   "source": [
    "# Grafica modificando min gain\n",
    "rango = np.arange(7000, 10000, 250)\n",
    "values = [RMSE_Model(min_gain=j) for j in rango]\n",
    "plt.plot(rango,values)\n",
    "plt.xlabel('Min Gain Values')\n",
    "plt.title('RMSE at Min Gain Value')\n",
    "plt.ylabel('RMSE')\n",
    "plt.show()\n"
   ]
  },
  {
   "cell_type": "code",
   "execution_count": 11,
   "metadata": {},
   "outputs": [
    {
     "data": {
      "image/png": "[encoded data removed]",
      "text/plain": [
       "<Figure size 640x480 with 1 Axes>"
      ]
     },
     "metadata": {},
     "output_type": "display_data"
    }
   ],
   "source": [
    "# Grafica modificando max depth\n",
    "rango = np.arange(2, 10, 1)\n",
    "values = [MAE_Model(max_depth=j) for j in rango]\n",
    "plt.plot(rango,values)\n",
    "plt.xlabel('Max Depth Values')\n",
    "plt.title('MAE at Max Depth Value')\n",
    "plt.ylabel('MAE')\n",
    "plt.show()\n"
   ]
  },
  {
   "cell_type": "markdown",
   "metadata": {},
   "source": [
    "### Punto 2 - Bagging manual\n",
    "\n",
    "En la celda 2 creen un modelo bagging **manualmente** con 10 árboles de regresión y comenten sobre el desempeño del modelo."
   ]
  },
  {
   "cell_type": "code",
   "execution_count": 12,
   "metadata": {},
   "outputs": [
    {
     "data": {
      "text/html": [
       "<div>\n",
       "<style scoped>\n",
       "    .dataframe tbody tr th:only-of-type {\n",
       "        vertical-align: middle;\n",
       "    }\n",
       "\n",
       "    .dataframe tbody tr th {\n",
       "        vertical-align: top;\n",
       "    }\n",
       "\n",
       "    .dataframe thead tr th {\n",
       "        text-align: left;\n",
       "    }\n",
       "</style>\n",
       "<table border=\"1\" class=\"dataframe\">\n",
       "  <thead>\n",
       "    <tr>\n",
       "      <th></th>\n",
       "      <th>0</th>\n",
       "      <th>1</th>\n",
       "      <th>2</th>\n",
       "      <th>3</th>\n",
       "      <th>4</th>\n",
       "      <th>5</th>\n",
       "      <th>6</th>\n",
       "      <th>7</th>\n",
       "      <th>8</th>\n",
       "      <th>9</th>\n",
       "    </tr>\n",
       "  </thead>\n",
       "  <tbody>\n",
       "    <tr>\n",
       "      <th>257343</th>\n",
       "      <td>13711.904580</td>\n",
       "      <td>12920.855072</td>\n",
       "      <td>13602.822660</td>\n",
       "      <td>13482.080569</td>\n",
       "      <td>12835.041284</td>\n",
       "      <td>13706.880240</td>\n",
       "      <td>12810.152047</td>\n",
       "      <td>13532.837209</td>\n",
       "      <td>13680.414449</td>\n",
       "      <td>13471.977528</td>\n",
       "    </tr>\n",
       "    <tr>\n",
       "      <th>326011</th>\n",
       "      <td>6337.154472</td>\n",
       "      <td>6580.487654</td>\n",
       "      <td>6332.266667</td>\n",
       "      <td>6485.329480</td>\n",
       "      <td>6303.866667</td>\n",
       "      <td>7598.701754</td>\n",
       "      <td>7862.612745</td>\n",
       "      <td>7557.204380</td>\n",
       "      <td>6239.875000</td>\n",
       "      <td>7856.953405</td>\n",
       "    </tr>\n",
       "    <tr>\n",
       "      <th>242354</th>\n",
       "      <td>16817.242105</td>\n",
       "      <td>16346.058574</td>\n",
       "      <td>15936.748000</td>\n",
       "      <td>16978.177388</td>\n",
       "      <td>16497.709505</td>\n",
       "      <td>16206.599775</td>\n",
       "      <td>16655.076208</td>\n",
       "      <td>16833.165333</td>\n",
       "      <td>16154.109649</td>\n",
       "      <td>16648.484429</td>\n",
       "    </tr>\n",
       "    <tr>\n",
       "      <th>266376</th>\n",
       "      <td>16104.822606</td>\n",
       "      <td>16346.058574</td>\n",
       "      <td>16039.288394</td>\n",
       "      <td>16225.698554</td>\n",
       "      <td>16497.709505</td>\n",
       "      <td>16206.599775</td>\n",
       "      <td>16073.866667</td>\n",
       "      <td>16100.910090</td>\n",
       "      <td>16154.109649</td>\n",
       "      <td>16065.386684</td>\n",
       "    </tr>\n",
       "    <tr>\n",
       "      <th>396954</th>\n",
       "      <td>16104.822606</td>\n",
       "      <td>16346.058574</td>\n",
       "      <td>16039.288394</td>\n",
       "      <td>16225.698554</td>\n",
       "      <td>16497.709505</td>\n",
       "      <td>16206.599775</td>\n",
       "      <td>16073.866667</td>\n",
       "      <td>16100.910090</td>\n",
       "      <td>16154.109649</td>\n",
       "      <td>16065.386684</td>\n",
       "    </tr>\n",
       "    <tr>\n",
       "      <th>...</th>\n",
       "      <td>...</td>\n",
       "      <td>...</td>\n",
       "      <td>...</td>\n",
       "      <td>...</td>\n",
       "      <td>...</td>\n",
       "      <td>...</td>\n",
       "      <td>...</td>\n",
       "      <td>...</td>\n",
       "      <td>...</td>\n",
       "      <td>...</td>\n",
       "    </tr>\n",
       "    <tr>\n",
       "      <th>144298</th>\n",
       "      <td>15837.267057</td>\n",
       "      <td>15855.876061</td>\n",
       "      <td>16059.420408</td>\n",
       "      <td>15967.887828</td>\n",
       "      <td>15964.986538</td>\n",
       "      <td>15842.101843</td>\n",
       "      <td>15980.320863</td>\n",
       "      <td>15945.922018</td>\n",
       "      <td>15875.097826</td>\n",
       "      <td>16022.562696</td>\n",
       "    </tr>\n",
       "    <tr>\n",
       "      <th>364521</th>\n",
       "      <td>16104.822606</td>\n",
       "      <td>16346.058574</td>\n",
       "      <td>16039.288394</td>\n",
       "      <td>16225.698554</td>\n",
       "      <td>15929.312187</td>\n",
       "      <td>16206.599775</td>\n",
       "      <td>16073.866667</td>\n",
       "      <td>16100.910090</td>\n",
       "      <td>16154.109649</td>\n",
       "      <td>16065.386684</td>\n",
       "    </tr>\n",
       "    <tr>\n",
       "      <th>120072</th>\n",
       "      <td>18214.878359</td>\n",
       "      <td>17797.127717</td>\n",
       "      <td>18087.583138</td>\n",
       "      <td>17905.815287</td>\n",
       "      <td>17959.649077</td>\n",
       "      <td>17720.516529</td>\n",
       "      <td>18755.032051</td>\n",
       "      <td>17832.261062</td>\n",
       "      <td>18175.964286</td>\n",
       "      <td>17829.904605</td>\n",
       "    </tr>\n",
       "    <tr>\n",
       "      <th>99878</th>\n",
       "      <td>12208.230769</td>\n",
       "      <td>12135.156379</td>\n",
       "      <td>12213.312500</td>\n",
       "      <td>13029.930435</td>\n",
       "      <td>11767.231183</td>\n",
       "      <td>12533.726619</td>\n",
       "      <td>11926.354369</td>\n",
       "      <td>12460.647059</td>\n",
       "      <td>12546.635135</td>\n",
       "      <td>12547.050000</td>\n",
       "    </tr>\n",
       "    <tr>\n",
       "      <th>387162</th>\n",
       "      <td>12249.540984</td>\n",
       "      <td>11239.029167</td>\n",
       "      <td>10747.371069</td>\n",
       "      <td>11138.756757</td>\n",
       "      <td>11520.739130</td>\n",
       "      <td>11259.794118</td>\n",
       "      <td>11265.274194</td>\n",
       "      <td>11621.340580</td>\n",
       "      <td>11246.534722</td>\n",
       "      <td>11095.439306</td>\n",
       "    </tr>\n",
       "  </tbody>\n",
       "</table>\n",
       "<p>3464 rows × 10 columns</p>\n",
       "</div>"
      ],
      "text/plain": [
       "                   0             1             2             3             4  \\\n",
       "257343  13711.904580  12920.855072  13602.822660  13482.080569  12835.041284   \n",
       "326011   6337.154472   6580.487654   6332.266667   6485.329480   6303.866667   \n",
       "242354  16817.242105  16346.058574  15936.748000  16978.177388  16497.709505   \n",
       "266376  16104.822606  16346.058574  16039.288394  16225.698554  16497.709505   \n",
       "396954  16104.822606  16346.058574  16039.288394  16225.698554  16497.709505   \n",
       "...              ...           ...           ...           ...           ...   \n",
       "144298  15837.267057  15855.876061  16059.420408  15967.887828  15964.986538   \n",
       "364521  16104.822606  16346.058574  16039.288394  16225.698554  15929.312187   \n",
       "120072  18214.878359  17797.127717  18087.583138  17905.815287  17959.649077   \n",
       "99878   12208.230769  12135.156379  12213.312500  13029.930435  11767.231183   \n",
       "387162  12249.540984  11239.029167  10747.371069  11138.756757  11520.739130   \n",
       "\n",
       "                   5             6             7             8             9  \n",
       "257343  13706.880240  12810.152047  13532.837209  13680.414449  13471.977528  \n",
       "326011   7598.701754   7862.612745   7557.204380   6239.875000   7856.953405  \n",
       "242354  16206.599775  16655.076208  16833.165333  16154.109649  16648.484429  \n",
       "266376  16206.599775  16073.866667  16100.910090  16154.109649  16065.386684  \n",
       "396954  16206.599775  16073.866667  16100.910090  16154.109649  16065.386684  \n",
       "...              ...           ...           ...           ...           ...  \n",
       "144298  15842.101843  15980.320863  15945.922018  15875.097826  16022.562696  \n",
       "364521  16206.599775  16073.866667  16100.910090  16154.109649  16065.386684  \n",
       "120072  17720.516529  18755.032051  17832.261062  18175.964286  17829.904605  \n",
       "99878   12533.726619  11926.354369  12460.647059  12546.635135  12547.050000  \n",
       "387162  11259.794118  11265.274194  11621.340580  11246.534722  11095.439306  \n",
       "\n",
       "[3464 rows x 10 columns]"
      ]
     },
     "execution_count": 12,
     "metadata": {},
     "output_type": "execute_result"
    }
   ],
   "source": [
    "# Celda 2\n",
    "# We will use our own Trees\n",
    "\n",
    "# Creación de 10 muestras de bootstrap \n",
    "np.random.seed(123)\n",
    "\n",
    "n_samples = X_train.shape[0]\n",
    "n_B = 10\n",
    "# \n",
    "samples = [np.random.choice(a=n_samples, size=n_samples, replace=True) for _ in range(1, n_B +1 )]\n",
    "\n",
    "level = 0\n",
    "max_depth = None\n",
    "num_pct = 10\n",
    "min_gain=7000\n",
    "\n",
    "# DataFrame para guardar las predicciones de cada árbol\n",
    "y_pred = pd.DataFrame(index=X_test.index, columns=[list(range(n_B))])\n",
    "\n",
    "# Entrenamiento de un árbol sobre cada muestra boostrap y predicción sobre los datos de test\n",
    "for i, sample in enumerate(samples):\n",
    "    X_trainBG = X_train.iloc[sample]\n",
    "    y_trainBG = y_train.iloc[sample]\n",
    "    treeBG = tree_grow(X_trainBG, y_trainBG, level=level, min_gain=min_gain, max_depth=max_depth, num_pct=num_pct)\n",
    "    y_pred.iloc[:,i] = tree_predict(X_test, treeBG)\n",
    "    \n",
    "y_pred\n"
   ]
  },
  {
   "cell_type": "code",
   "execution_count": 13,
   "metadata": {},
   "outputs": [
    {
     "name": "stdout",
     "output_type": "stream",
     "text": [
      "Árbol  0 tiene un RMSE:  1797.6092254393545\n",
      "Árbol  1 tiene un RMSE:  1803.2259620254515\n",
      "Árbol  2 tiene un RMSE:  1797.1101982748082\n",
      "Árbol  3 tiene un RMSE:  1776.9360985322883\n",
      "Árbol  4 tiene un RMSE:  1792.2384496068978\n",
      "Árbol  5 tiene un RMSE:  1786.776635559031\n",
      "Árbol  6 tiene un RMSE:  1787.1494109482162\n",
      "Árbol  7 tiene un RMSE:  1760.7810838924463\n",
      "Árbol  8 tiene un RMSE:  1776.8016434851907\n",
      "Árbol  9 tiene un RMSE:  1766.19949120803\n"
     ]
    }
   ],
   "source": [
    "for i in range(n_B):\n",
    "    print('Árbol ', i, 'tiene un RMSE: ', np.sqrt(np.mean(np.square(np.array(y_pred.iloc[:,i]) - y_test))))\n",
    "    "
   ]
  },
  {
   "cell_type": "code",
   "execution_count": 14,
   "metadata": {},
   "outputs": [
    {
     "data": {
      "text/plain": [
       "15114.733194149072"
      ]
     },
     "execution_count": 14,
     "metadata": {},
     "output_type": "execute_result"
    }
   ],
   "source": [
    "# Error al promediar las predicciones de todos los árboles\n",
    "np.sqrt(np.mean(np.square(y_test, y_pred.mean(axis=1))))\n"
   ]
  },
  {
   "cell_type": "markdown",
   "metadata": {},
   "source": [
    "\n",
    "Interpretación de los RMSE individuales:\n",
    "\n",
    "* Los RMSE de los primeros 10 árboles varían entre aproximadamente 1760 y 1803.\n",
    "* El RMSE promedio de estos árboles es de alrededor de 1784.75, lo que sugiere una variabilidad moderada en la precisión de las predicciones entre los diferentes árboles.\n",
    "\n",
    "Desempeño del modelo Bagging:\n",
    "\n",
    "* Sabemos que el modelo Bagging combina las predicciones de los árboles para mejorar la precisión general y reducir el sobreajuste. En este caso, el RMSE del modelo Bagging es de 15114.73, que es considerablemente más bajo que el RMSE promedio de los árboles individuales. Este resultado indica que el ensamblaje (combinación de árboles) ha logrado reducir significativamente el error de predicción en comparación con cualquier árbol individual.\n",
    "\n",
    "En resumen, los resultados indican que el modelo Bagging ha logrado mejorar el rendimiento en términos de RMSE en comparación con los árboles individuales en el ensamblaje. Esto demuestra la eficacia del ensamblaje en la reducción del error y resalta la importancia de evaluar el modelo final en datos independientes para una validación más sólida. Es de esperarse que después de ajustar hiperparámetros el desempeño del modelo sea aún mejor.\n",
    "\n",
    "\n",
    "**Nota**: Aqui partimos de que se usó un hiperpárametro de mínima ganancia de 7000. De acuerdo a las gráficas más arriba es de esperarse que al disminuir dicho parámetro logremos una mejora significativa del modelo, solo que por rapidez en los tiempos de ejecución se ha dejado dicho valor."
   ]
  },
  {
   "cell_type": "markdown",
   "metadata": {},
   "source": [
    "### Punto 3 - Bagging con librería\n",
    "\n",
    "En la celda 3, con la librería sklearn, entrenen un modelo bagging con 10 árboles de regresión y el parámetro `max_features` igual a `log(n_features)` y comenten sobre el desempeño del modelo."
   ]
  },
  {
   "cell_type": "code",
   "execution_count": 15,
   "metadata": {},
   "outputs": [
    {
     "name": "stdout",
     "output_type": "stream",
     "text": [
      "El RMSE: 2274.1360002677716\n",
      "El MAE: 1744.4522710146198\n"
     ]
    }
   ],
   "source": [
    "# Celda 3\n",
    "\n",
    "from sklearn.ensemble import BaggingRegressor\n",
    "from sklearn.tree import DecisionTreeRegressor\n",
    "from sklearn.metrics import mean_squared_error, r2_score\n",
    "\n",
    "# Configurar el modelo de bagging\n",
    "n_features = X_train.shape[1]\n",
    "max_features = int(np.log2(n_features))\n",
    "bagging_model = BaggingRegressor(\n",
    "    base_estimator=DecisionTreeRegressor(),\n",
    "    n_estimators=10,\n",
    "    max_features=max_features,\n",
    "    random_state=42\n",
    ")\n",
    "\n",
    "# Entrenar el modelo\n",
    "bagging_model.fit(X_train, y_train)\n",
    "\n",
    "# Evaluar el desempeño del modelo\n",
    "y_pred = bagging_model.predict(X_test)\n",
    "score = r2_score(y_test, y_pred)\n",
    "\n",
    "rmse_bg = np.sqrt(mean_squared_error(y_test, y_pred))\n",
    "mae_bg = mean_absolute_error(y_test, y_pred)\n",
    "\n",
    "print(f\"El RMSE: {rmse_bg}\")\n",
    "print(f\"El MAE: {mae_bg}\")\n"
   ]
  },
  {
   "cell_type": "markdown",
   "metadata": {},
   "source": [
    "\n",
    "El modelo de bagging con libreria, que utiliza 10 árboles de regresión y configura el parámetro max_features basado en el logaritmo del número de características, logra un RMSE de 2274.136 indica que las predicciones del modelo de bagging para los precios de los automóviles se desvían, en promedio, aproximadamente $2274 del precio real. Este nivel de error sugiere que el modelo puede tener limitaciones al capturar todos los factores influyentes o que los precios de los automóviles varían ampliamente, haciendo más difícil lograr predicciones precisas. Por otro lado, el MAE de 1744.452 muestra que, en promedio, cada predicción se desvía por $1744 del valor actual, proporcionando una perspectiva del error típico en términos absolutos y sin considerar la dirección del error.\n",
    "\n",
    "Estos valores de RMSE y MAE puede considerarse razonable dependiendo del rango de precios en el conjunto de datos, aunque también señala que hay espacio para mejorar la precisión del modelo."
   ]
  },
  {
   "cell_type": "markdown",
   "metadata": {},
   "source": [
    "### Punto 4 - Random forest con librería\n",
    "\n",
    "En la celda 4, usando la librería sklearn entrenen un modelo de Randon Forest para regresión  y comenten sobre el desempeño del modelo."
   ]
  },
  {
   "cell_type": "code",
   "execution_count": 16,
   "metadata": {},
   "outputs": [
    {
     "name": "stdout",
     "output_type": "stream",
     "text": [
      "El RMSE: 1765.4118259983413\n",
      "El MAE: 1314.4207078056425\n"
     ]
    }
   ],
   "source": [
    "# Celda 4\n",
    "from sklearn.ensemble import RandomForestRegressor\n",
    "random_forest_model = RandomForestRegressor(n_estimators=100, random_state=42)\n",
    "\n",
    "# Entrenar el modelo\n",
    "random_forest_model.fit(X_train, y_train)\n",
    "\n",
    "# Evaluar el desempeño del modelo\n",
    "y_pred = random_forest_model.predict(X_test)\n",
    "score = r2_score(y_test, y_pred)\n",
    "\n",
    "rmse_rf = np.sqrt(mean_squared_error(y_test, y_pred))\n",
    "mae_rf = mean_absolute_error(y_test, y_pred)\n",
    "\n",
    "print(f\"El RMSE: {rmse_rf}\")\n",
    "print(f\"El MAE: {mae_rf}\")\n"
   ]
  },
  {
   "cell_type": "markdown",
   "metadata": {},
   "source": [
    "El RMSE de 1765.411 sugiere que, en promedio, las predicciones del modelo tienen una desviación de aproximadamente $1765 del valor real de los precios. Este valor, aunque aún indica un error notable, es menor en comparación con el obtenido en el modelo de bagging, reflejando una mayor precisión en las predicciones del modelo de Random Forest. Este error menor puede indicar que el modelo está más capacitado para capturar la variabilidad y las relaciones subyacentes en el conjunto de datos de precios de automóviles.\n",
    "\n",
    "Por otro lado, el MAE de 1314.421 refleja que el error medio absoluto de las predicciones es de alrededor de $1314. Este valor proporciona una visión más directa del error típico que se puede esperar de las predicciones del modelo, ignorando la dirección de los errores (sobrestimaciones o subestimaciones).\n",
    "\n",
    "En conclusión, los valores de RMSE y MAE obtenidos con el modelo de Random Forest son indicativos de una capacidad razonablemente buena para predecir precios de automóviles, con un margen de error moderado. Estos resultados sugieren que el modelo de Random Forest es efectivo, aunque aún hay espacio para mejorar."
   ]
  },
  {
   "cell_type": "markdown",
   "metadata": {},
   "source": [
    "### Punto 5 - Calibración de parámetros Random forest\n",
    "\n",
    "En la celda 5, calibren los parámetros max_depth, max_features y n_estimators del modelo de Randon Forest para regresión, comenten sobre el desempeño del modelo y describan cómo cada parámetro afecta el desempeño del modelo."
   ]
  },
  {
   "cell_type": "code",
   "execution_count": 17,
   "metadata": {},
   "outputs": [
    {
     "data": {
      "image/png": "[encoded data removed]",
      "text/plain": [
       "<Figure size 640x480 with 1 Axes>"
      ]
     },
     "metadata": {},
     "output_type": "display_data"
    }
   ],
   "source": [
    "# Celda 5\n",
    "from sklearn.model_selection import cross_val_score\n",
    "\n",
    "# Creación de lista de valores para iterar sobre diferentes valores de max_depth\n",
    "depth_range = range(1, 21)  #consideraremos profundidades de 1 a 20\n",
    "\n",
    "# Definición de lista para almacenar el rmse promedio para cada valor de max_depth\n",
    "rmse_scores_depth = []\n",
    "\n",
    "# Uso de un 10-fold cross-validation para cada valor de max_depth\n",
    "for depth in depth_range:\n",
    "    rf = RandomForestRegressor(max_depth=depth, random_state=1, n_jobs=-1)\n",
    "    rmse_scores_depth.append(-cross_val_score(rf, X_train, y_train, cv=5, scoring='neg_root_mean_squared_error').mean())\n",
    "\n",
    "# Gráfica del desempeño del modelo vs la profundidad máxima del árbol (max_depth)\n",
    "plt.plot(depth_range, rmse_scores_depth)\n",
    "plt.xlabel('max_depth')\n",
    "plt.ylabel('RMSE')\n",
    "plt.title('Desempeño del modelo vs max_depth')\n",
    "plt.show()\n"
   ]
  },
  {
   "cell_type": "code",
   "execution_count": 18,
   "metadata": {},
   "outputs": [
    {
     "data": {
      "text/plain": [
       "(1527.2405104850957, 8)"
      ]
     },
     "execution_count": 18,
     "metadata": {},
     "output_type": "execute_result"
    }
   ],
   "source": [
    "sorted(zip(rmse_scores_depth, depth_range))[0]"
   ]
  },
  {
   "cell_type": "markdown",
   "metadata": {},
   "source": [
    "La gráfica nos indica que la profundidad máxima de cada árbol en el bosque debe ser de 8, dado que con esta profundidad se minimiza el RMSE. De esta manera se tiene un RMSE de 1527, así las predicciones del modelo podrían desviarse en promedio alrededor de 1527 unidades del valor real."
   ]
  },
  {
   "cell_type": "markdown",
   "metadata": {},
   "source": [
    "#### Calibración max_features"
   ]
  },
  {
   "cell_type": "code",
   "execution_count": 19,
   "metadata": {},
   "outputs": [
    {
     "data": {
      "text/plain": [
       "Text(0, 0.5, 'RMSE')"
      ]
     },
     "execution_count": 19,
     "metadata": {},
     "output_type": "execute_result"
    },
    {
     "data": {
      "image/png": "[encoded data removed]",
      "text/plain": [
       "<Figure size 640x480 with 1 Axes>"
      ]
     },
     "metadata": {},
     "output_type": "display_data"
    }
   ],
   "source": [
    "# Creación de lista de valores para iterar sobre diferentes valores de max_features\n",
    "feature_range = range(1, X_train.shape[1]+1)\n",
    "\n",
    "# Definición de lista para almacenar el rmse promedio para cada valor de max_features\n",
    "rmse_scores_f = []\n",
    "\n",
    "# Uso de un 10-fold cross-validation para cada valor de max_features\n",
    "for feature in feature_range:\n",
    "    rff = RandomForestRegressor( max_depth=8, max_features=feature, random_state=1, n_jobs=-1)\n",
    "    rmse_scores_f.append(-cross_val_score(rff, X_train, y_train, cv=5, scoring='neg_root_mean_squared_error').mean())\n",
    "\n",
    "# Gráfica del desempeño del modelo vs la cantidad de max_features\n",
    "plt.plot(feature_range, rmse_scores_f)\n",
    "plt.xlabel('max_features')\n",
    "plt.ylabel('RMSE')"
   ]
  },
  {
   "cell_type": "code",
   "execution_count": 20,
   "metadata": {},
   "outputs": [
    {
     "data": {
      "text/plain": [
       "(1516.1577207089244, 4)"
      ]
     },
     "execution_count": 20,
     "metadata": {},
     "output_type": "execute_result"
    }
   ],
   "source": [
    "sorted(zip(rmse_scores_f, feature_range))[0]"
   ]
  },
  {
   "cell_type": "markdown",
   "metadata": {},
   "source": [
    "De acuerdo con la calibración, se tiene que el número máximo de características que se considerarán para dividir un nodo debe ser de 4 teniendo una profundidad de 8 de esta manera se tiene el menor RMSE. Es de mencionar que reducir el número máximo de características puede mejorar la generalización del modelo y reducir la varianza, con 4 características se presenta un RMSE de 1516."
   ]
  },
  {
   "cell_type": "markdown",
   "metadata": {},
   "source": [
    "#### Calibración de n_estimators"
   ]
  },
  {
   "cell_type": "code",
   "execution_count": 21,
   "metadata": {},
   "outputs": [
    {
     "data": {
      "text/plain": [
       "Text(0, 0.5, 'RMSE')"
      ]
     },
     "execution_count": 21,
     "metadata": {},
     "output_type": "execute_result"
    },
    {
     "data": {
      "image/png": "[encoded data removed]",
      "text/plain": [
       "<Figure size 640x480 with 1 Axes>"
      ]
     },
     "metadata": {},
     "output_type": "display_data"
    }
   ],
   "source": [
    "# Creación de lista de valores para iterar sobre diferentes valores de n_estimators\n",
    "estimator_range = range(10, 310, 10)\n",
    "\n",
    "# Definición de lista para almacenar la exactitud (accuracy) promedio para cada valor de n_estimators\n",
    "rmse_scores_n = []\n",
    "\n",
    "# Uso de un 5-fold cross-validation para cada valor de n_estimators\n",
    "for estimator in estimator_range:\n",
    "    rfn = RandomForestRegressor(max_depth=8, max_features=4, n_estimators=estimator, random_state=1, n_jobs=-1)\n",
    "    rmse_scores_n.append(-cross_val_score(rfn, X_train, y_train, cv=5, scoring='neg_root_mean_squared_error').mean())\n",
    "    \n",
    "# Gráfica del desempeño del modelo vs la cantidad de n_estimators\n",
    "plt.plot(estimator_range, rmse_scores_n)\n",
    "plt.xlabel('n_estimators')\n",
    "plt.ylabel('RMSE')"
   ]
  },
  {
   "cell_type": "code",
   "execution_count": 22,
   "metadata": {},
   "outputs": [
    {
     "data": {
      "text/plain": [
       "(1514.96846227286, 280)"
      ]
     },
     "execution_count": 22,
     "metadata": {},
     "output_type": "execute_result"
    }
   ],
   "source": [
    "sorted(zip(rmse_scores_n, estimator_range))[0]"
   ]
  },
  {
   "cell_type": "markdown",
   "metadata": {},
   "source": [
    "Teniendo una profundidad de 8 y un número máximo de características de 4, se calibra el parámetro de la cantidad de árboles en el bosque, en donde se obtiene que con 280 se minimiza el RMSE a 1514. Así el RMSE sugiere que las predicciones del modelo podrían desviarse en promedio alrededor de 1514 unidades del valor real.\n",
    "\n",
    "Es de mencionar que un mayor número de árboles puede mejorar la precisión del modelo, pero también aumenta el tiempo de entrenamiento, lo anterior descibe porque se seleccionaron 280 estimadores y no 200, ya que en la gráfica parece que tienen un RMSE similar."
   ]
  },
  {
   "cell_type": "markdown",
   "metadata": {},
   "source": [
    "#### Random Forest con parámetros calibrados"
   ]
  },
  {
   "cell_type": "code",
   "execution_count": 23,
   "metadata": {},
   "outputs": [
    {
     "name": "stdout",
     "output_type": "stream",
     "text": [
      "RMSE Random Forest con parámetros calibrados: 1552.1291620493587\n",
      "MAE Random Forest con parámetros calibrados: 1138.5922723352235\n"
     ]
    }
   ],
   "source": [
    "# Definición del modelo con los parámetros n_estimators=280, max_features=4,max_depth=8\n",
    "\n",
    "\n",
    "rfc = RandomForestRegressor(n_estimators=280, max_features=4,max_depth=8, random_state=1, n_jobs=-1)\n",
    "rfc.fit(X_train, y_train)\n",
    "y_pred = rfc.predict(X_test)\n",
    "\n",
    "rmse_rfc = np.sqrt(mean_squared_error(y_test, y_pred))\n",
    "mae_rfc = mean_absolute_error(y_test, y_pred)\n",
    "\n",
    "print(\"RMSE Random Forest con parámetros calibrados:\", rmse_rfc)\n",
    "print(\"MAE Random Forest con parámetros calibrados:\", mae_rfc)"
   ]
  },
  {
   "cell_type": "markdown",
   "metadata": {},
   "source": [
    "### Punto 6 - XGBoost con librería\n",
    "\n",
    "En la celda 6 implementen un modelo XGBoost de regresión con la librería sklearn y comenten sobre el desempeño del modelo."
   ]
  },
  {
   "cell_type": "code",
   "execution_count": 24,
   "metadata": {
    "scrolled": true
   },
   "outputs": [
    {
     "name": "stdout",
     "output_type": "stream",
     "text": [
      "RMSE XGBoost: 1605.2355199928948\n",
      "MAE XGBoost: 1185.2272991506386\n"
     ]
    }
   ],
   "source": [
    "# Celda 6\n",
    "import xgboost\n",
    "from xgboost import XGBRegressor\n",
    "\n",
    "xgb = XGBRegressor()\n",
    "xgb.fit(X_train, y_train)\n",
    "y_pred = xgb.predict(X_test)\n",
    "\n",
    "rmse_xgb = np.sqrt(mean_squared_error(y_test, y_pred))\n",
    "mae_xgb = mean_absolute_error(y_test, y_pred)\n",
    "\n",
    "print(\"RMSE XGBoost:\", rmse_xgb)\n",
    "print(\"MAE XGBoost:\", mae_xgb)\n"
   ]
  },
  {
   "cell_type": "markdown",
   "metadata": {},
   "source": [
    "Para el modelo XGBoost sin calibrar se presenta un RMSE de 1605.23, el cual sugiere que las predicciones del modelo podrían desviarse en promedio alrededor de 1605.23 unidades del precio real del automóvil. Mientras que el MAE es de 1185.23 significa que, en promedio, las predicciones del modelo están desviadas del precio real del automóvil en aproximadamente 1185.23 unidades de la misma escala que el precio."
   ]
  },
  {
   "cell_type": "markdown",
   "metadata": {},
   "source": [
    "### Punto 7 - Calibración de parámetros XGBoost\n",
    "\n",
    "En la celda 7 calibren los parámetros learning rate, gamma y colsample_bytree del modelo XGBoost para regresión, comenten sobre el desempeño del modelo y describan cómo cada parámetro afecta el desempeño del modelo."
   ]
  },
  {
   "cell_type": "code",
   "execution_count": 25,
   "metadata": {},
   "outputs": [
    {
     "name": "stdout",
     "output_type": "stream",
     "text": [
      "Mejores parámetros encontrados: {'colsample_bytree': 0.5, 'gamma': 0, 'learning_rate': 0.1}\n",
      "RMSE XGBoost mejorado: 1549.3205200247592\n",
      "MAE XGBoost mejorado: 1138.295120204018\n"
     ]
    }
   ],
   "source": [
    "# Celda 7\n",
    "\n",
    "from sklearn.model_selection import GridSearchCV\n",
    "\n",
    "# Definir los parámetros a calibrar\n",
    "parametros = {\n",
    "    'learning_rate': [0.1, 0.01, 0.001],\n",
    "    'gamma': [0, 0.1, 0.2, 0.3],\n",
    "    'colsample_bytree': [0.5, 0.7, 0.9, 1]\n",
    "}\n",
    "\n",
    "# Crear el modelo XGBoost\n",
    "xgb = XGBRegressor()\n",
    "\n",
    "# Definir la búsqueda de parámetros\n",
    "grid_search = GridSearchCV(estimator=xgb, param_grid=parametros, cv=5, n_jobs=-1)\n",
    "\n",
    "# Realizar la búsqueda de parámetros\n",
    "grid_search.fit(X_train, y_train)\n",
    "\n",
    "# Obtener el mejor modelo calibrado\n",
    "xgb_mejorado = grid_search.best_estimator_\n",
    "\n",
    "# Realizar predicciones con el mejor modelo\n",
    "y_pred_mejorado = xgb_mejorado.predict(X_test)\n",
    "\n",
    "# Calcular métricas de desempeño con el mejor modelo\n",
    "rmse_xgb_mejorado = np.sqrt(mean_squared_error(y_test, y_pred_mejorado))\n",
    "mae_xgb_mejorado = mean_absolute_error(y_test, y_pred_mejorado)\n",
    "\n",
    "print(\"Mejores parámetros encontrados:\", grid_search.best_params_)\n",
    "print(\"RMSE XGBoost mejorado:\", rmse_xgb_mejorado)\n",
    "print(\"MAE XGBoost mejorado:\", mae_xgb_mejorado)"
   ]
  },
  {
   "cell_type": "markdown",
   "metadata": {},
   "source": [
    "### Punto 8 - Comparación y análisis de resultados\n",
    "En la celda 8 comparen los resultados obtenidos de los diferentes modelos (random forest y XGBoost) y comenten las ventajas del mejor modelo y las desventajas del modelo con el menor desempeño."
   ]
  },
  {
   "cell_type": "code",
   "execution_count": 26,
   "metadata": {
    "scrolled": true
   },
   "outputs": [
    {
     "data": {
      "image/png": "[encoded data removed]",
      "text/plain": [
       "<Figure size 640x480 with 1 Axes>"
      ]
     },
     "metadata": {},
     "output_type": "display_data"
    },
    {
     "data": {
      "image/png": "[encoded data removed]",
      "text/plain": [
       "<Figure size 640x480 with 1 Axes>"
      ]
     },
     "metadata": {},
     "output_type": "display_data"
    }
   ],
   "source": [
    "# Celda 8\n",
    "\n",
    "fig = plt.figure()\n",
    "ax = fig.add_axes([0,0,1,1])\n",
    "ax.set_title(\"Riz del Error Cuadrativo Medio\")\n",
    "ejeX = ['RandomForest', 'RandomForestCP','XGboost','XGboost_mejorado']\n",
    "ejeY = [rmse_rf,rmse_rfc,rmse_xgb,rmse_xgb_mejorado]\n",
    "ax.bar(ejeX,ejeY)\n",
    "def addlabels(x,y,plotP):\n",
    "    for i in range(len(x)):\n",
    "        plotP.text(i,y[i],round(y[i],3))\n",
    "addlabels(ejeX,ejeY,plt)\n",
    "plt.show()\n",
    "\n",
    "fig = plt.figure()\n",
    "ax = fig.add_axes([0,0,1,1])\n",
    "ax.set_title(\"Error Absoluto Medio\")\n",
    "ejeX = ['RandomForest', 'RandomForestCP','XGboost','XGboost_mejorado']\n",
    "ejeY = [mae_rf,mae_rfc,mae_xgb,mae_xgb_mejorado]\n",
    "ax.bar(ejeX,ejeY)\n",
    "def addlabels(x,y,plotP):\n",
    "    for i in range(len(x)):\n",
    "        plotP.text(i,y[i],round(y[i],3))\n",
    "addlabels(ejeX,ejeY,plt)\n",
    "plt.show()\n"
   ]
  },
  {
   "cell_type": "markdown",
   "metadata": {},
   "source": [
    "El modelo de Random Forest original tiene el RMSE más alto con 1765.412, lo que indica que, en promedio, tiene la mayor desviación en las predicciones de precio respecto al valor real. El Random Forest con calibración de parametros muestra una mejora con un RMSE de 1552.129.Por otro laso, el XGBoost tiene un rendimiento similar al 'RandomForestCP' con un RMSE de 1605.236. El XGBoost con calibración de parametros tiene el RMSE más bajo con 1549.321, sugiriendo que este modelo tiene el mejor rendimiento en cuanto a la precisión de las predicciones.\n",
    "\n",
    "En cuanto al MAE, el modelo de Random Forest original tiene el valor más alto con 1314.421, lo que refleja un mayor error medio en las predicciones. El Random Forest y XGBoost con calibración de parametros muestran mejoras significativas, ambos con valores de MAE muy similares de alrededor de 1138.5, lo que indica una precisión de predicción mejorada y errores más consistentes.La versión mejorada de XGBoost parece ofrecer una ligera ventaja en términos de MAE sobre la versión del Random Forest con parametros calibrados.\n",
    "\n",
    "**Ventajas del Mejor Modelo:**\n",
    "\n",
    "El XGBoost con parametros calibrados, teniendo el RMSE más bajo y un MAE competitivo, muestra ser el modelo más preciso. Esto sugiere que la optimización de hiperparámetros o la ingeniería de características realizada ha sido efectiva. Las ventajas incluyen:\n",
    "- **Precisión**: Al tener el error promedio más bajo, es probable que las predicciones sean más cercanas al valor real, lo que es crítico en aplicaciones prácticas.\n",
    "- **Consistencia**: Un MAE bajo implica que el modelo comete errores consistentemente menores, lo cual es importante para mantener la confiabilidad en las predicciones.\n",
    "\n",
    "\n",
    "**Desventajas del Modelo con Menor Desempeño:**\n",
    "\n",
    "El Random Forest original, con el RMSE y MAE más altos, parece ser el menos adecuado para la tarea de predicción de precios de automóviles. Sus desventajas podrían ser:\n",
    "- **Precisión general**: Un RMSE alto indica una precisión baja en general, lo cual puede ser un problema si se busca usar el modelo para establecer precios o para sistemas de recomendación.\n",
    "- **Error medio**: Un MAE alto sugiere que el modelo puede no ser tan confiable en la estimación de precios, lo cual podría llevar a decisiones basadas en información incorrecta.\n",
    "\n",
    "\n",
    "En conclusión, mientras que el XGBoost mejorado parece ser el modelo más prometedor con la precisión más alta y errores menores en promedio, el Random Forest original podría requerir una revisión de características, un ajuste de hiperparámetros, o una estrategia de modelado diferente para mejorar su rendimiento."
   ]
  }
 ],
 "metadata": {
  "kernelspec": {
   "display_name": "Python 3 (ipykernel)",
   "language": "python",
   "name": "python3"
  },
  "language_info": {
   "codemirror_mode": {
    "name": "ipython",
    "version": 3
   },
   "file_extension": ".py",
   "mimetype": "text/x-python",
   "name": "python",
   "nbconvert_exporter": "python",
   "pygments_lexer": "ipython3",
   "version": "3.9.12"
  }
 },
 "nbformat": 4,
 "nbformat_minor": 4
}
