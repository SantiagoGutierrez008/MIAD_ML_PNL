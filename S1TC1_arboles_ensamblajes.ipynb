{
 "cells": [
  {
   "cell_type": "markdown",
   "metadata": {},
   "source": [
    "![image info](https://raw.githubusercontent.com/albahnsen/MIAD_ML_and_NLP/main/images/banner_1.png)"
   ]
  },
  {
   "cell_type": "markdown",
   "metadata": {},
   "source": [
    "# Taller: Construcción e implementación de árboles de decisión y métodos de ensamblaje\n",
    "\n",
    "En este taller podrá poner en práctica los sus conocimientos sobre construcción e implementación de árboles de decisión y métodos de ensamblajes. El taller está constituido por 9 puntos, 5 relacionados con árboles de decisión (parte A) y 4 con métodos de ensamblaje (parte B)."
   ]
  },
  {
   "cell_type": "markdown",
   "metadata": {},
   "source": [
    "## Parte A - Árboles de decisión\n",
    "\n",
    "En esta parte del taller se usará el conjunto de datos de Capital Bikeshare de Kaggle, donde cada observación representa el alquiler de bicicletas durante una hora y día determinado. Para más detalles puede visitar los siguientes enlaces: [datos](https://archive.ics.uci.edu/ml/machine-learning-databases/00275/Bike-Sharing-Dataset.zip), [dicccionario de datos](https://archive.ics.uci.edu/ml/datasets/Bike+Sharing+Dataset#)."
   ]
  },
  {
   "cell_type": "markdown",
   "metadata": {},
   "source": [
    "### Datos prestamo de bicicletas"
   ]
  },
  {
   "cell_type": "code",
   "execution_count": 1,
   "metadata": {},
   "outputs": [],
   "source": [
    "import warnings\n",
    "warnings.filterwarnings('ignore')"
   ]
  },
  {
   "cell_type": "code",
   "execution_count": 2,
   "metadata": {},
   "outputs": [],
   "source": [
    "# Importación de librerías\n",
    "%matplotlib inline\n",
    "import pandas as pd\n",
    "import numpy as np\n",
    "from sklearn.model_selection import cross_val_score\n",
    "from sklearn.linear_model import LinearRegression\n",
    "from sklearn.tree import DecisionTreeRegressor, export_graphviz"
   ]
  },
  {
   "cell_type": "code",
   "execution_count": 3,
   "metadata": {},
   "outputs": [
    {
     "data": {
      "text/html": [
       "<div>\n",
       "<style scoped>\n",
       "    .dataframe tbody tr th:only-of-type {\n",
       "        vertical-align: middle;\n",
       "    }\n",
       "\n",
       "    .dataframe tbody tr th {\n",
       "        vertical-align: top;\n",
       "    }\n",
       "\n",
       "    .dataframe thead th {\n",
       "        text-align: right;\n",
       "    }\n",
       "</style>\n",
       "<table border=\"1\" class=\"dataframe\">\n",
       "  <thead>\n",
       "    <tr style=\"text-align: right;\">\n",
       "      <th></th>\n",
       "      <th>season</th>\n",
       "      <th>holiday</th>\n",
       "      <th>workingday</th>\n",
       "      <th>weather</th>\n",
       "      <th>temp</th>\n",
       "      <th>atemp</th>\n",
       "      <th>humidity</th>\n",
       "      <th>windspeed</th>\n",
       "      <th>casual</th>\n",
       "      <th>registered</th>\n",
       "      <th>total</th>\n",
       "      <th>hour</th>\n",
       "    </tr>\n",
       "    <tr>\n",
       "      <th>datetime</th>\n",
       "      <th></th>\n",
       "      <th></th>\n",
       "      <th></th>\n",
       "      <th></th>\n",
       "      <th></th>\n",
       "      <th></th>\n",
       "      <th></th>\n",
       "      <th></th>\n",
       "      <th></th>\n",
       "      <th></th>\n",
       "      <th></th>\n",
       "      <th></th>\n",
       "    </tr>\n",
       "  </thead>\n",
       "  <tbody>\n",
       "    <tr>\n",
       "      <th>2011-01-01 00:00:00</th>\n",
       "      <td>1</td>\n",
       "      <td>0</td>\n",
       "      <td>0</td>\n",
       "      <td>1</td>\n",
       "      <td>9.84</td>\n",
       "      <td>14.395</td>\n",
       "      <td>81</td>\n",
       "      <td>0.0</td>\n",
       "      <td>3</td>\n",
       "      <td>13</td>\n",
       "      <td>16</td>\n",
       "      <td>0</td>\n",
       "    </tr>\n",
       "    <tr>\n",
       "      <th>2011-01-01 01:00:00</th>\n",
       "      <td>1</td>\n",
       "      <td>0</td>\n",
       "      <td>0</td>\n",
       "      <td>1</td>\n",
       "      <td>9.02</td>\n",
       "      <td>13.635</td>\n",
       "      <td>80</td>\n",
       "      <td>0.0</td>\n",
       "      <td>8</td>\n",
       "      <td>32</td>\n",
       "      <td>40</td>\n",
       "      <td>1</td>\n",
       "    </tr>\n",
       "    <tr>\n",
       "      <th>2011-01-01 02:00:00</th>\n",
       "      <td>1</td>\n",
       "      <td>0</td>\n",
       "      <td>0</td>\n",
       "      <td>1</td>\n",
       "      <td>9.02</td>\n",
       "      <td>13.635</td>\n",
       "      <td>80</td>\n",
       "      <td>0.0</td>\n",
       "      <td>5</td>\n",
       "      <td>27</td>\n",
       "      <td>32</td>\n",
       "      <td>2</td>\n",
       "    </tr>\n",
       "    <tr>\n",
       "      <th>2011-01-01 03:00:00</th>\n",
       "      <td>1</td>\n",
       "      <td>0</td>\n",
       "      <td>0</td>\n",
       "      <td>1</td>\n",
       "      <td>9.84</td>\n",
       "      <td>14.395</td>\n",
       "      <td>75</td>\n",
       "      <td>0.0</td>\n",
       "      <td>3</td>\n",
       "      <td>10</td>\n",
       "      <td>13</td>\n",
       "      <td>3</td>\n",
       "    </tr>\n",
       "    <tr>\n",
       "      <th>2011-01-01 04:00:00</th>\n",
       "      <td>1</td>\n",
       "      <td>0</td>\n",
       "      <td>0</td>\n",
       "      <td>1</td>\n",
       "      <td>9.84</td>\n",
       "      <td>14.395</td>\n",
       "      <td>75</td>\n",
       "      <td>0.0</td>\n",
       "      <td>0</td>\n",
       "      <td>1</td>\n",
       "      <td>1</td>\n",
       "      <td>4</td>\n",
       "    </tr>\n",
       "  </tbody>\n",
       "</table>\n",
       "</div>"
      ],
      "text/plain": [
       "                     season  holiday  workingday  weather  temp   atemp  \\\n",
       "datetime                                                                  \n",
       "2011-01-01 00:00:00       1        0           0        1  9.84  14.395   \n",
       "2011-01-01 01:00:00       1        0           0        1  9.02  13.635   \n",
       "2011-01-01 02:00:00       1        0           0        1  9.02  13.635   \n",
       "2011-01-01 03:00:00       1        0           0        1  9.84  14.395   \n",
       "2011-01-01 04:00:00       1        0           0        1  9.84  14.395   \n",
       "\n",
       "                     humidity  windspeed  casual  registered  total  hour  \n",
       "datetime                                                                   \n",
       "2011-01-01 00:00:00        81        0.0       3          13     16     0  \n",
       "2011-01-01 01:00:00        80        0.0       8          32     40     1  \n",
       "2011-01-01 02:00:00        80        0.0       5          27     32     2  \n",
       "2011-01-01 03:00:00        75        0.0       3          10     13     3  \n",
       "2011-01-01 04:00:00        75        0.0       0           1      1     4  "
      ]
     },
     "execution_count": 3,
     "metadata": {},
     "output_type": "execute_result"
    }
   ],
   "source": [
    "# Lectura de la información de archivo .csv\n",
    "bikes = pd.read_csv('https://raw.githubusercontent.com/davidzarruk/MIAD_ML_NLP_2023/main/datasets/bikeshare.csv', index_col='datetime', parse_dates=True)\n",
    "\n",
    "# Renombrar variable \"count\" a \"total\"\n",
    "bikes.rename(columns={'count':'total'}, inplace=True)\n",
    "\n",
    "# Crear la hora como una variable \n",
    "bikes['hour'] = bikes.index.hour\n",
    "\n",
    "# Visualización de los datos\n",
    "bikes.head()"
   ]
  },
  {
   "cell_type": "markdown",
   "metadata": {},
   "source": [
    "### Punto 1 - Análisis descriptivo\n",
    "\n",
    "Ejecute las celdas 1.1 y 1.2. A partir de los resultados realice un análisis descriptivo sobre las variables \"season\" y \"hour\", escriba sus inferencias sobre los datos. Para complementar su análisis puede usar métricas como máximo, mínimo, percentiles entre otros."
   ]
  },
  {
   "cell_type": "code",
   "execution_count": 4,
   "metadata": {
    "scrolled": true
   },
   "outputs": [
    {
     "data": {
      "text/plain": [
       "season\n",
       "1    116.343261\n",
       "2    215.251372\n",
       "3    234.417124\n",
       "4    198.988296\n",
       "Name: total, dtype: float64"
      ]
     },
     "execution_count": 4,
     "metadata": {},
     "output_type": "execute_result"
    }
   ],
   "source": [
    "# Celda 1.1\n",
    "bikes.groupby('season').total.mean()"
   ]
  },
  {
   "cell_type": "code",
   "execution_count": 5,
   "metadata": {
    "scrolled": true
   },
   "outputs": [
    {
     "name": "stdout",
     "output_type": "stream",
     "text": [
      "              mean  max  min         std  median  percentil_25  percentil_75\n",
      "season                                                                      \n",
      "1       116.343261  801    1  125.273974    78.0          24.0         164.0\n",
      "2       215.251372  873    1  192.007843   172.0          49.0         321.0\n",
      "3       234.417124  977    1  197.151001   195.0          68.0         347.0\n",
      "4       198.988296  948    1  177.622409   161.0          51.0         294.0\n"
     ]
    }
   ],
   "source": [
    "estadisticas_s = bikes.groupby('season')['total'].agg([\n",
    "    'mean',     # Promedio\n",
    "    'max',      # Máximo\n",
    "    'min',      # Mínimo\n",
    "    'std',      # Desviación estándar\n",
    "    'median',   # Mediana (percentil 50)\n",
    "    lambda x: x.quantile(0.25),  # Percentil 25\n",
    "    lambda x: x.quantile(0.75),  # Percentil 75\n",
    "])\n",
    "\n",
    "# Renombra las columnas generadas por las funciones lambda para claridad\n",
    "estadisticas_s = estadisticas_s.rename(columns={\n",
    "    '<lambda_0>': 'percentil_25',\n",
    "    '<lambda_1>': 'percentil_75'\n",
    "})\n",
    "\n",
    "# Muestra el resultado\n",
    "print(estadisticas_s)"
   ]
  },
  {
   "cell_type": "markdown",
   "metadata": {},
   "source": [
    "**Analísis Descriptivo Variable \"Season\":**\n",
    "\n",
    "El verano (3) presenta el promedio más alto de alquileres (234.42), seguido de cerca por la primavera (215.25), lo cual sugiere que estos periodos son los más populares para el alquiler de bicicletas. El otoño (198.99) y el invierno (116.34) muestran una demanda menor, siendo el invierno el periodo con la menor actividad.El verano también tiene la desviación estándar más alta (197.15), indicando una mayor variabilidad en los alquileres diarios. Esto podría sugerir que, aunque el verano es popular, la demanda es más impredecible, posiblemente influenciada por el clima extremo o eventos especiales.Todas las temporadas registran un mínimo de 1, lo que indica días de muy baja demanda. Los máximos varían, con el verano alcanzando el valor más alto (977), lo cual refuerza la idea de que es la temporada con picos de mayor demanda. La mediana sigue un patrón similar al promedio, siendo más alta en verano y primavera, lo que refleja una mayor demanda media durante estos periodos. Los rangos intercuartílicos son más amplios en las temporadas de verano y primavera, lo que sugiere una mayor dispersión en los datos de alquileres durante estos periodos.\n",
    "\n",
    "\n",
    "El verano y la primavera presentan la mayor demanda de alquileres de bicicletas, lo que podría estar relacionado con el clima más cálido y agradable, que fomenta actividades al aire libre y el uso de bicicletas para el transporte y recreación.El invierno muestra significativamente menos actividad en comparación con las demás estaciones, lo cual es esperable dadas las condiciones climáticas más frías, que desalientan el uso de bicicletas.Aunque el verano tiene la demanda más alta, también presenta la mayor variabilidad, lo que indica que los factores externos podrían influir considerablemente en el número de alquileres diarios. La planificación de eventos, promociones, o mejoras en la infraestructura para estos meses podría ayudar a estabilizar y potenciar la demanda.El invierno representa una oportunidad para estrategias dirigidas a aumentar el uso de bicicletas, como la implementación de programas de incentivos, mejoras en el equipo para el frío, o campañas de marketing que promuevan el ciclismo en condiciones invernales."
   ]
  },
  {
   "cell_type": "code",
   "execution_count": 6,
   "metadata": {
    "scrolled": true
   },
   "outputs": [
    {
     "data": {
      "text/plain": [
       "hour\n",
       "0      55.138462\n",
       "1      33.859031\n",
       "2      22.899554\n",
       "3      11.757506\n",
       "4       6.407240\n",
       "5      19.767699\n",
       "6      76.259341\n",
       "7     213.116484\n",
       "8     362.769231\n",
       "9     221.780220\n",
       "10    175.092308\n",
       "11    210.674725\n",
       "12    256.508772\n",
       "13    257.787281\n",
       "14    243.442982\n",
       "15    254.298246\n",
       "16    316.372807\n",
       "17    468.765351\n",
       "18    430.859649\n",
       "19    315.278509\n",
       "20    228.517544\n",
       "21    173.370614\n",
       "22    133.576754\n",
       "23     89.508772\n",
       "Name: total, dtype: float64"
      ]
     },
     "execution_count": 6,
     "metadata": {},
     "output_type": "execute_result"
    }
   ],
   "source": [
    "# Celda 1.2\n",
    "bikes.groupby('hour').total.mean()"
   ]
  },
  {
   "cell_type": "code",
   "execution_count": 7,
   "metadata": {
    "scrolled": true
   },
   "outputs": [
    {
     "name": "stdout",
     "output_type": "stream",
     "text": [
      "            mean  max  min         std  median  percentil_25  percentil_75\n",
      "hour                                                                      \n",
      "0      55.138462  283    2   43.620012    41.0         24.00         74.50\n",
      "1      33.859031  168    1   34.112105    19.0         11.00         46.00\n",
      "2      22.899554  119    1   26.110267    11.0          5.00         32.00\n",
      "3      11.757506   66    1   12.666442     6.0          3.00         15.00\n",
      "4       6.407240   28    1    4.217633     6.0          3.00          9.00\n",
      "5      19.767699   57    1   12.784293    19.0          8.00         29.00\n",
      "6      76.259341  213    1   54.745333    75.0         24.50        118.00\n",
      "7     213.116484  596    1  159.207044   208.0         63.00        334.00\n",
      "8     362.769231  839    8  231.723065   392.0        133.50        563.50\n",
      "9     221.780220  414   14   92.099209   217.0        161.00        294.50\n",
      "10    175.092308  539   17  101.807629   149.0        106.00        218.50\n",
      "11    210.674725  647   10  127.444294   183.0        123.00        265.50\n",
      "12    256.508772  757    3  143.881880   234.5        157.00        332.00\n",
      "13    257.787281  729   11  149.167185   226.5        154.00        329.00\n",
      "14    243.442982  730   12  147.563199   212.0        144.00        311.25\n",
      "15    254.298246  724    7  144.235670   232.0        154.00        331.00\n",
      "16    316.372807  783   11  145.664786   309.5        211.75        421.00\n",
      "17    468.765351  970   15  223.775485   480.5        277.00        608.50\n",
      "18    430.859649  977   23  219.908138   422.5        240.75        564.00\n",
      "19    315.278509  743   11  156.641732   312.5        190.00        416.00\n",
      "20    228.517544  551   11  116.411565   224.0        136.75        302.00\n",
      "21    173.370614  584    6   87.629319   171.5        103.50        230.00\n",
      "22    133.576754  502    9   69.844495   129.0         80.00        175.00\n",
      "23     89.508772  256    4   51.638004    80.0         52.75        123.00\n"
     ]
    }
   ],
   "source": [
    "estadisticas_h = bikes.groupby('hour')['total'].agg([\n",
    "    'mean',     # Promedio\n",
    "    'max',      # Máximo\n",
    "    'min',      # Mínimo\n",
    "    'std',      # Desviación estándar\n",
    "    'median',   # Mediana (percentil 50)\n",
    "    lambda x: x.quantile(0.25),  # Percentil 25\n",
    "    lambda x: x.quantile(0.75),  # Percentil 75\n",
    "])\n",
    "\n",
    "# Renombra las columnas generadas por las funciones lambda para claridad\n",
    "estadisticas_h = estadisticas_h.rename(columns={\n",
    "    '<lambda_0>': 'percentil_25',\n",
    "    '<lambda_1>': 'percentil_75'\n",
    "})\n",
    "\n",
    "# Muestra el resultado\n",
    "print(estadisticas_h)"
   ]
  },
  {
   "cell_type": "markdown",
   "metadata": {},
   "source": [
    "**Analísis Descriptivo Variable \"Hour\":**\n",
    "\n",
    "Entre las 17 y 18 horas, destaca como el momento de mayor actividad, con un promedio impresionante de 468.77 y 430.86 alquileres respectivamente. Estas horas, justo cuando la gente sale del trabajo o de sus actividades diarias, muestran la preferencia por la bicicleta como medio para regresar a casa o para actividades de ocio al final del día. La máxima demanda se observa a las 18 horas con 977 alquileres, lo que indica no solo la popularidad sino también la variabilidad de la demanda, posiblemente influenciada por eventos especiales o cambios en el clima. La desviación estándar alta en estas horas (223.78 y 219.91 respectivamente) subraya esta variabilidad.Por la mañana, entre las 7 y 8 horas, hay un resurgimiento notable en el uso de bicicletas, alcanzando un promedio de 213.12 y 362.77 alquileres respectivamente. Esto refleja claramente la preferencia por las bicicletas como medio de transporte al trabajo o la escuela. La demanda pico de la mañana a las 8 horas, con un máximo de 839 alquileres, muestra una menor variabilidad que en la tarde, pero aún así destaca la importancia de estas horas en el día a día de los usuarios.\n",
    "\n",
    "Durante las horas nocturnas, desde la medianoche hasta las 5 de la mañana, vemos la menor actividad, con un promedio que va disminuyendo hasta llegar a un mínimo de 6.41 alquileres a las 4 horas. Esto es esperable, dado el menor tráfico y la reducida necesidad de transporte en estas horas. Sin embargo, el hecho de que aún haya gente alquilando bicicletas, incluso en el mínimo de la noche, habla de la diversidad de necesidades y estilos de vida de los usuarios.Durante el resto del día, la actividad se mantiene estable con una ligera tendencia ascendente hacia las horas de la tarde. Las 10 y 11 horas muestran una actividad intermedia, con promedios de 175.09 y 210.67 alquileres respectivamente, lo que podría corresponder a usuarios que inician actividades más tarde o utilizan las bicicletas para tareas a media mañana.\n",
    "\n",
    "En resumen, el análisis revela dos picos claros de demanda: uno en la mañana y otro más pronunciado al final de la tarde, lo que subraya el rol de las bicicletas como medio de transporte esencial para el inicio y fin de la jornada laboral o escolar. Las altas variabilidades observadas, especialmente en las horas pico, sugieren una demanda influenciada por factores externos como el clima y eventos específicos. Las horas nocturnas, aunque menos activas, revelan un uso continuo del servicio, posiblemente por trabajadores nocturnos o por opciones de ocio. Este patrón diurno en el alquiler de bicicletas proporciona insights valiosos para ajustar la disponibilidad de bicicletas y mejorar los servicios de acuerdo a las necesidades de los usuarios en diferentes momentos del día."
   ]
  },
  {
   "cell_type": "markdown",
   "metadata": {},
   "source": [
    "### Punto 2 - Análisis de gráficos\n",
    "\n",
    "Primero ejecute la celda 2.1 y asegúrese de comprender el código y el resultado. Luego, en cada una de celdas 2.2 y 2.3 escriba un código que genere una gráfica del número de bicicletas rentadas promedio para cada valor de la variable \"hour\" (hora) cuando la variable \"season\" es igual a 1 (invierno) e igual a 3 (verano), respectivamente. Analice y escriba sus hallazgos."
   ]
  },
  {
   "cell_type": "code",
   "execution_count": 8,
   "metadata": {
    "scrolled": true
   },
   "outputs": [
    {
     "data": {
      "text/plain": [
       "<AxesSubplot:title={'center':'Promedio de Bicicletas Rentadas por Hora'}, xlabel='hour'>"
      ]
     },
     "execution_count": 8,
     "metadata": {},
     "output_type": "execute_result"
    },
    {
     "data": {
      "image/png": "[encoded data removed]",
      "text/plain": [
       "<Figure size 640x480 with 1 Axes>"
      ]
     },
     "metadata": {},
     "output_type": "display_data"
    }
   ],
   "source": [
    "# Celda 2.1 - rentas promedio para cada valor de la variable \"hour\"\n",
    "bikes.groupby('hour').total.mean().plot(title='Promedio de Bicicletas Rentadas por Hora')"
   ]
  },
  {
   "cell_type": "code",
   "execution_count": 9,
   "metadata": {
    "scrolled": true
   },
   "outputs": [
    {
     "data": {
      "text/plain": [
       "<AxesSubplot:title={'center':'Promedio de Bicicletas Rentadas por Hora en Invierno'}, xlabel='hour'>"
      ]
     },
     "execution_count": 9,
     "metadata": {},
     "output_type": "execute_result"
    },
    {
     "data": {
      "image/png": "[encoded data removed]",
      "text/plain": [
       "<Figure size 640x480 with 1 Axes>"
      ]
     },
     "metadata": {},
     "output_type": "display_data"
    }
   ],
   "source": [
    "# Celda 2.2 - \"season\"=1 escriba su código y hallazgos \n",
    "# Filtra los datos para incluir solo la temporada de invierno (season == 1)\n",
    "bikes_invierno = bikes[bikes['season'] == 1]\n",
    "\n",
    "# Agrupa por 'hour', calcula el promedio de 'total', y traza el gráfico\n",
    "bikes_invierno.groupby('hour').total.mean().plot(title='Promedio de Bicicletas Rentadas por Hora en Invierno')"
   ]
  },
  {
   "cell_type": "code",
   "execution_count": 10,
   "metadata": {
    "scrolled": true
   },
   "outputs": [
    {
     "data": {
      "text/plain": [
       "<AxesSubplot:title={'center':'Promedio de Bicicletas Rentadas por Hora en Verano'}, xlabel='hour'>"
      ]
     },
     "execution_count": 10,
     "metadata": {},
     "output_type": "execute_result"
    },
    {
     "data": {
      "image/png": "[encoded data removed]",
      "text/plain": [
       "<Figure size 640x480 with 1 Axes>"
      ]
     },
     "metadata": {},
     "output_type": "display_data"
    }
   ],
   "source": [
    "# Celda 2.3 - \"season\"=3 escriba su código y hallazgos \n",
    "# Filtra los datos para incluir solo la temporada de verano (season == 3)\n",
    "bikes_verano = bikes[bikes['season'] == 3]\n",
    "\n",
    "# Agrupa por 'hour', calcula el promedio de 'total', y traza el gráfico\n",
    "bikes_verano.groupby('hour')['total'].mean().plot(title='Promedio de Bicicletas Rentadas por Hora en Verano')"
   ]
  },
  {
   "cell_type": "markdown",
   "metadata": {},
   "source": [
    "Tanto en invierno como en verano, hay dos picos pronunciados de actividad, uno por la mañana entre las 7 y las 9, y otro por la tarde entre las 16 y las 18 horas. Estos picos corresponden probablemente a las horas de inicio y fin de la jornada laboral o escolar, indicando que las bicicletas se utilizan significativamente para los desplazamientos pendulares. La gráfica de verano muestra una mayor cantidad de alquileres promedio en comparación con el invierno, lo que refleja la tendencia general de mayor uso de bicicletas en climas más cálidos.Además, el pico de la tarde en verano es mucho más alto y pronunciado que en invierno, lo que puede indicar una mayor propensión a actividades de ocio después del trabajo cuando el clima es agradable.La gráfica de invierno, aunque sigue mostrando un uso significativo, tiene picos más moderados y un declive más notable después de las horas pico de la tarde.\n",
    "\n",
    "Durante las horas nocturnas, la actividad es mínima en ambas temporadas, con la gráfica de invierno mostrando incluso menos alquileres promedio, posiblemente debido a la combinación de oscuridad y frío. A partir de las 5 de la mañana, ambas gráficas empiezan a mostrar un aumento en la actividad, que se acelera significativamente al acercarse a las 7 de la mañana.\n",
    "\n",
    "El rango de alquileres en la gráfica de verano es más amplio que en la de invierno, lo que sugiere una mayor variabilidad en el número de alquileres hora por hora durante los meses más cálidos.Este patrón podría ser el resultado de más actividades al aire libre en verano, así como la influencia de las vacaciones escolares y eventos especiales que pueden afectar los patrones de movilidad.En ambas gráficas, las horas con menos actividad son consistentes, mostrando el menor número de alquileres alrededor de las 4 de la mañana, lo cual es comprensible considerando las horas habituales de sueño y la baja necesidad de transporte.\n",
    "\n",
    "Estos patrones horarios enfatizan la importancia de gestionar la disponibilidad de bicicletas para satisfacer la demanda en las horas pico, y también podrían ser una base para incentivar el uso de bicicletas durante las horas de menor actividad, quizás con tarifas reducidas o programas especiales. El conocimiento de estos patrones también puede ser útil para el mantenimiento preventivo de las bicicletas y la planificación de la logística de redistribución. Finalmente, las diferencias entre las estaciones destacan la influencia del clima en los patrones de movilidad urbana y pueden guiar la toma de decisiones estratégicas en términos de marketing y operaciones para el sistema de alquiler de bicicletas."
   ]
  },
  {
   "cell_type": "markdown",
   "metadata": {},
   "source": [
    "### Punto 3 - Regresión lineal\n",
    "En la celda 3 ajuste un modelo de regresión lineal a todo el conjunto de datos, utilizando \"total\" como variable de respuesta y \"season\" y \"hour\" como las únicas variables predictoras, teniendo en cuenta que la variable \"season\" es categórica. Luego, imprima los coeficientes e interprételos. ¿Cuáles son las limitaciones de la regresión lineal en este caso?"
   ]
  },
  {
   "cell_type": "code",
   "execution_count": 11,
   "metadata": {
    "scrolled": true
   },
   "outputs": [
    {
     "name": "stdout",
     "output_type": "stream",
     "text": [
      "Coeficientes: [ 10.62873885 100.90776793 119.01866421  87.2473903 ]\n",
      "Intercepto: -9.563071266089025\n",
      "Error Cuadrático Medio (MSE): 25644.421108938277\n",
      "Coefficiente de Determinación (R^2): 0.21517712032533343\n",
      "Nombres de las Características: Index(['hour', 'season_2', 'season_3', 'season_4'], dtype='object')\n"
     ]
    }
   ],
   "source": [
    "# Celda 3\n",
    "from sklearn.model_selection import train_test_split\n",
    "from sklearn.metrics import mean_squared_error, r2_score\n",
    "\n",
    "season_dummies = pd.get_dummies(bikes['season'], prefix='season', drop_first=True)\n",
    "\n",
    "X = pd.concat([bikes['hour'], season_dummies], axis=1)\n",
    "y = bikes['total']\n",
    "\n",
    "# Dividimos los datos en conjuntos de entrenamiento y prueba\n",
    "X_train, X_test, y_train, y_test = train_test_split(X, y, test_size=0.33, random_state=0)\n",
    "\n",
    "# Creamos el modelo de regresión lineal\n",
    "model = LinearRegression()\n",
    "\n",
    "# Ajustamos el modelo con los datos de entrenamiento\n",
    "model.fit(X_train, y_train)\n",
    "\n",
    "# Realizamos predicciones en el conjunto de prueba\n",
    "y_pred = model.predict(X_test)\n",
    "\n",
    "# Evaluamos el modelo\n",
    "mse = mean_squared_error(y_test, y_pred)\n",
    "r2 = r2_score(y_test, y_pred)\n",
    "\n",
    "# Imprimimos los resultados\n",
    "print(f\"Coeficientes: {model.coef_}\")\n",
    "print(f\"Intercepto: {model.intercept_}\")\n",
    "print(f\"Error Cuadrático Medio (MSE): {mse}\")\n",
    "print(f\"Coefficiente de Determinación (R^2): {r2}\")\n",
    "\n",
    "# Si necesitas los nombres de las columnas de las variables dummy:\n",
    "feature_names = X.columns\n",
    "print(f\"Nombres de las Características: {feature_names}\")"
   ]
  },
  {
   "cell_type": "markdown",
   "metadata": {},
   "source": [
    "**Interpretación de los Coeficientes:**\n",
    "- **Coeficiente para 'hour'**: Por cada hora adicional, el número de bicicletas rentadas aumenta en promedio por 10.63 unidades. Este efecto es mantenido sin importar la temporada.\n",
    "- **Coeficiente para 'season_2'**: En la primavera, el número de bicicletas rentadas aumenta en 100.91 unidades en promedio en comparación con el invierno (que es la categoría de referencia).\n",
    "- **Coeficiente para 'season_3'**: En el verano, hay un aumento de 119.02 unidades en el número promedio de bicicletas rentadas en comparación con el invierno.\n",
    "- **Coeficiente para 'season_4'**: En el otoño, el número de bicicletas rentadas aumenta en promedio por 87.25 unidades en comparación con el invierno.\n",
    "- **El intercepto de -9.56** es el punto de partida del modelo; sin embargo, un intercepto negativo no tiene una interpretación práctica directa en este contexto porque no puede haber un número negativo de bicicletas rentadas. Esto podría sugerir que el modelo no está capturando completamente la base de la relación entre las horas, las temporadas y el número de bicicletas rentadas.\n",
    "\n",
    "**Interpretación de las Métricas de Desempeño:**\n",
    "- **MSE (25644.42)**: El Error Cuadrático Medio es una medida de la calidad del estimador; es siempre no negativo, y los valores más bajos son mejores. Un MSE de 25644.42 es relativamente alto, lo cual puede indicar que hay una variabilidad significativa en los datos que el modelo no está capturando.\n",
    "- **R-^2 (0.215)**:  Un R^2 de 0.215 sugiere que solo el 21.5% de la variabilidad en el número de bicicletas rentadas es explicada por la hora del día y la temporada. Esto deja una gran cantidad de variabilidad sin explicar, lo que sugiere que hay otros factores no incluidos en el modelo que influyen en la cantidad de alquileres de bicicletas.\n",
    "\n",
    "Dado que el R^2 es relativamente bajo, hay varias posibles interpretaciones: Puede haber otras variables importantes que afectan al total de alquileres de bicicletas, como el clima (temperatura, precipitación), días de la semana, o factores económicos que no están incluidos en el modelo; las relaciones entre las horas, las temporadas y los alquileres de bicicletas pueden no ser lineales y podrían requerir un enfoque de modelado más complejo; puede haber ruido en los datos o valores atípicos que están afectando la capacidad del modelo para ajustar y predecir con precisión.\n",
    "\n",
    "El modelo de regresión lineal que hemos aplicado enfrenta limitaciones dada la complejidad inherente al alquiler de bicicletas. Este modelo asume una relación directa y constante entre la hora y la temporada con los alquileres, lo cual es una simplificación que no refleja posibles relaciones no lineales ni la influencia de otros factores no incluidos como el clima o días especiales. Además, no capta la posible correlación entre observaciones sucesivas ni las interacciones entre variables, como las horas pico varían por temporada. Por último, los valores atípicos y la variabilidad de errores que cambia con el nivel de demanda (heterocedasticidad) pueden afectar la precisión del modelo, y la multicolinealidad entre predictores podría estar distorsionando los resultados. Estos aspectos destacan la necesidad de considerar métodos más avanzados o modelos no lineales para una representación más fiel de la dinámica de alquiler de bicicletas."
   ]
  },
  {
   "cell_type": "markdown",
   "metadata": {},
   "source": [
    "### Punto 4 - Árbol de decisión manual\n",
    "En la celda 4 cree un árbol de decisiones para pronosticar la variable \"total\" iterando **manualmente** sobre las variables \"hour\" y  \"season\". El árbol debe tener al menos 6 nodos finales."
   ]
  },
  {
   "cell_type": "code",
   "execution_count": 12,
   "metadata": {
    "scrolled": true
   },
   "outputs": [
    {
     "name": "stdout",
     "output_type": "stream",
     "text": [
      "{'y_pred': 191.57413191254824, 'level': 0, 'split': [0, 8.0], 'n_samples': 10886, 'gain': 9134.405911766378, 'sl': {'y_pred': 55.437673900946024, 'level': 1, 'split': [0, 7.0], 'n_samples': 3594, 'gain': 3603.850329979806, 'sl': {'y_pred': 32.58203249442498, 'level': 2, 'split': [0, 6.0], 'n_samples': 3139, 'gain': 323.4004463794806, 'sl': {'y_pred': 25.177719821162444, 'level': 3, 'split': [0, 2.0], 'n_samples': 2684, 'gain': 191.40441543022723, 'sl': {'y_pred': 44.51045104510451, 'level': 4, 'split': [0, 1.0], 'n_samples': 909, 'gain': 113.20340574084503, 'sl': {'y_pred': 55.13846153846154, 'level': 5, 'split': [2, 1.0], 'n_samples': 455, 'gain': 141.0014271019129, 'sl': {'y_pred': 48.27272727272727, 'level': 6, 'split': -1, 'n_samples': 341, 'gain': 52.2589672199947}, 'sr': {'y_pred': 75.67543859649123, 'level': 6, 'split': -1, 'n_samples': 114, 'gain': -inf}}, 'sr': {'y_pred': 33.859030837004404, 'level': 5, 'split': [2, 1.0], 'n_samples': 454, 'gain': 39.89892308426397, 'sl': {'y_pred': 30.222873900293255, 'level': 6, 'split': -1, 'n_samples': 341, 'gain': 17.74215268393607}, 'sr': {'y_pred': 44.83185840707964, 'level': 6, 'split': -1, 'n_samples': 113, 'gain': -inf}}}, 'sr': {'y_pred': 15.27718309859155, 'level': 4, 'split': [0, 3.0], 'n_samples': 1775, 'gain': 19.614949636834922, 'sl': {'y_pred': 22.899553571428573, 'level': 5, 'split': [2, 1.0], 'n_samples': 448, 'gain': 26.171510004109223, 'sl': {'y_pred': 19.928358208955224, 'level': 6, 'split': -1, 'n_samples': 335, 'gain': 6.515854208499377}, 'sr': {'y_pred': 31.707964601769913, 'level': 6, 'split': -1, 'n_samples': 113, 'gain': -inf}}, 'sr': {'y_pred': 12.703843255463452, 'level': 5, 'split': [0, 5.0], 'n_samples': 1327, 'gain': 25.775911933062673, 'sl': {'y_pred': 9.054857142857143, 'level': 6, 'split': -1, 'n_samples': 875, 'gain': 7.155579335232602}, 'sr': {'y_pred': 19.76769911504425, 'level': 6, 'split': -1, 'n_samples': 452, 'gain': 11.982149829126598}}}}, 'sr': {'y_pred': 76.25934065934067, 'level': 3, 'split': [2, 1.0], 'n_samples': 455, 'gain': 140.78707852207936, 'sl': {'y_pred': 69.39882697947215, 'level': 4, 'split': [1, 1.0], 'n_samples': 341, 'gain': 92.66391125353312, 'sl': {'y_pred': 62.57709251101321, 'level': 5, 'split': [3, 1.0], 'n_samples': 227, 'gain': 390.6223898626354, 'sl': {'y_pred': 42.72566371681416, 'level': 6, 'split': -1, 'n_samples': 113, 'gain': -inf}, 'sr': {'y_pred': 82.25438596491227, 'level': 6, 'split': -1, 'n_samples': 114, 'gain': -inf}}, 'sr': {'y_pred': 82.98245614035088, 'level': 5, 'split': -1, 'n_samples': 114, 'gain': -inf}}, 'sr': {'y_pred': 96.78070175438596, 'level': 4, 'split': -1, 'n_samples': 114, 'gain': -inf}}}, 'sr': {'y_pred': 213.11648351648353, 'level': 2, 'split': [2, 1.0], 'n_samples': 455, 'gain': 866.7691640814373, 'sl': {'y_pred': 196.09384164222874, 'level': 3, 'split': [1, 1.0], 'n_samples': 341, 'gain': 656.9912596996837, 'sl': {'y_pred': 177.9295154185022, 'level': 4, 'split': [3, 1.0], 'n_samples': 227, 'gain': 2836.706340672041, 'sl': {'y_pred': 124.43362831858407, 'level': 5, 'split': -1, 'n_samples': 113, 'gain': -inf}, 'sr': {'y_pred': 230.9561403508772, 'level': 5, 'split': -1, 'n_samples': 114, 'gain': -inf}}, 'sr': {'y_pred': 232.26315789473685, 'level': 4, 'split': -1, 'n_samples': 114, 'gain': -inf}}, 'sr': {'y_pred': 264.03508771929825, 'level': 3, 'split': -1, 'n_samples': 114, 'gain': -inf}}}, 'sr': {'y_pred': 258.6715578716402, 'level': 1, 'split': [0, 21.0], 'n_samples': 7292, 'gain': 3696.460396080336, 'sl': {'y_pred': 287.88808237677245, 'level': 2, 'split': [0, 16.0], 'n_samples': 5924, 'gain': 2568.474597242701, 'sl': {'y_pred': 247.79994511525797, 'level': 3, 'split': [0, 9.0], 'n_samples': 3644, 'gain': 1885.9081758927387, 'sl': {'y_pred': 362.7692307692308, 'level': 4, 'split': [2, 1.0], 'n_samples': 455, 'gain': 554.8591331178759, 'sl': {'y_pred': 349.14956011730203, 'level': 5, 'split': [3, 1.0], 'n_samples': 341, 'gain': 1460.1204152224018, 'sl': {'y_pred': 322.0704845814978, 'level': 6, 'split': -1, 'n_samples': 227, 'gain': 4681.7426345274}, 'sr': {'y_pred': 403.0701754385965, 'level': 6, 'split': -1, 'n_samples': 114, 'gain': -inf}}, 'sr': {'y_pred': 403.50877192982455, 'level': 5, 'split': -1, 'n_samples': 114, 'gain': -inf}}, 'sr': {'y_pred': 231.3963624960803, 'level': 4, 'split': [0, 12.0], 'n_samples': 3189, 'gain': 624.1954358396724, 'sl': {'y_pred': 202.5157509157509, 'level': 5, 'split': [2, 1.0], 'n_samples': 1365, 'gain': 522.2738599015101, 'sl': {'y_pred': 189.30205278592376, 'level': 6, 'split': -1, 'n_samples': 1023, 'gain': 605.8490906954357}, 'sr': {'y_pred': 242.04093567251462, 'level': 6, 'split': -1, 'n_samples': 342, 'gain': 110.05726548339953}}, 'sr': {'y_pred': 253.0093201754386, 'level': 5, 'split': [2, 1.0], 'n_samples': 1824, 'gain': 680.3229528356424, 'sl': {'y_pred': 237.95029239766083, 'level': 6, 'split': -1, 'n_samples': 1368, 'gain': 1030.4074341250052}, 'sr': {'y_pred': 298.18640350877195, 'level': 6, 'split': -1, 'n_samples': 456, 'gain': 56.744503116344276}}}}, 'sr': {'y_pred': 351.95877192982454, 'level': 3, 'split': [0, 19.0], 'n_samples': 2280, 'gain': 4273.148658850121, 'sl': {'y_pred': 405.3326023391813, 'level': 4, 'split': [0, 17.0], 'n_samples': 1368, 'gain': 3956.922591833856, 'sl': {'y_pred': 316.37280701754383, 'level': 5, 'split': [2, 1.0], 'n_samples': 456, 'gain': 1006.5651033651011, 'sl': {'y_pred': 298.05555555555554, 'level': 6, 'split': -1, 'n_samples': 342, 'gain': 1866.7479267125236}, 'sr': {'y_pred': 371.32456140350877, 'level': 6, 'split': -1, 'n_samples': 114, 'gain': -inf}}, 'sr': {'y_pred': 449.8125, 'level': 5, 'split': [2, 1.0], 'n_samples': 912, 'gain': 3496.3163381200648, 'sl': {'y_pred': 415.67397660818716, 'level': 6, 'split': -1, 'n_samples': 684, 'gain': 5434.183663349424}, 'sr': {'y_pred': 552.2280701754386, 'level': 6, 'split': -1, 'n_samples': 228, 'gain': 173.1301939058103}}}, 'sr': {'y_pred': 271.8980263157895, 'level': 4, 'split': [2, 1.0], 'n_samples': 912, 'gain': 2626.8834004212513, 'sl': {'y_pred': 242.30701754385964, 'level': 5, 'split': [1, 1.0], 'n_samples': 684, 'gain': 2987.509387503869, 'sl': {'y_pred': 203.6578947368421, 'level': 6, 'split': -1, 'n_samples': 456, 'gain': 2841.170533241004}, 'sr': {'y_pred': 319.60526315789474, 'level': 6, 'split': -1, 'n_samples': 228, 'gain': 2738.777777777783}}, 'sr': {'y_pred': 360.67105263157896, 'level': 5, 'split': [0, 20.0], 'n_samples': 228, 'gain': 2790.8976800554046, 'sl': {'y_pred': 413.5, 'level': 6, 'split': -1, 'n_samples': 114, 'gain': -inf}, 'sr': {'y_pred': 307.8421052631579, 'level': 6, 'split': -1, 'n_samples': 114, 'gain': -inf}}}}}, 'sr': {'y_pred': 132.15204678362574, 'level': 2, 'split': [0, 23.0], 'n_samples': 1368, 'gain': 909.2244451284141, 'sl': {'y_pred': 153.47368421052633, 'level': 3, 'split': [2, 1.0], 'n_samples': 912, 'gain': 1005.7618754488631, 'sl': {'y_pred': 135.16374269005848, 'level': 4, 'split': [1, 1.0], 'n_samples': 684, 'gain': 864.3436452669202, 'sl': {'y_pred': 114.375, 'level': 5, 'split': [3, 1.0], 'n_samples': 456, 'gain': 916.2569684903033, 'sl': {'y_pred': 84.10526315789474, 'level': 6, 'split': -1, 'n_samples': 228, 'gain': 125.28285626346633}, 'sr': {'y_pred': 144.64473684210526, 'level': 6, 'split': -1, 'n_samples': 228, 'gain': 332.42245690981963}}, 'sr': {'y_pred': 176.74122807017545, 'level': 5, 'split': [0, 22.0], 'n_samples': 228, 'gain': 508.4233802708568, 'sl': {'y_pred': 199.28947368421052, 'level': 6, 'split': -1, 'n_samples': 114, 'gain': -inf}, 'sr': {'y_pred': 154.19298245614036, 'level': 6, 'split': -1, 'n_samples': 114, 'gain': -inf}}}, 'sr': {'y_pred': 208.40350877192984, 'level': 4, 'split': [0, 22.0], 'n_samples': 228, 'gain': 762.5349338257938, 'sl': {'y_pred': 236.01754385964912, 'level': 5, 'split': -1, 'n_samples': 114, 'gain': -inf}, 'sr': {'y_pred': 180.78947368421052, 'level': 5, 'split': -1, 'n_samples': 114, 'gain': -inf}}}, 'sr': {'y_pred': 89.50877192982456, 'level': 3, 'split': [2, 1.0], 'n_samples': 456, 'gain': 345.83933518005506, 'sl': {'y_pred': 78.7719298245614, 'level': 4, 'split': [1, 1.0], 'n_samples': 342, 'gain': 262.4863034779919, 'sl': {'y_pred': 67.3157894736842, 'level': 5, 'split': [3, 1.0], 'n_samples': 228, 'gain': 483.22837796244994, 'sl': {'y_pred': 45.333333333333336, 'level': 6, 'split': -1, 'n_samples': 114, 'gain': -inf}, 'sr': {'y_pred': 89.29824561403508, 'level': 6, 'split': -1, 'n_samples': 114, 'gain': -inf}}, 'sr': {'y_pred': 101.6842105263158, 'level': 5, 'split': -1, 'n_samples': 114, 'gain': -inf}}, 'sr': {'y_pred': 121.71929824561404, 'level': 4, 'split': -1, 'n_samples': 114, 'gain': -inf}}}}}\n"
     ]
    }
   ],
   "source": [
    "# Celda 4\n",
    "\n",
    "# Utilizar la reducción de la varianza como criterio. La varianza es un criterio apropiado cuando la variable de salida es continua\n",
    "def variance(y):\n",
    "    if len(y) == 0:  # para evitar divisiones por cero\n",
    "        return 0\n",
    "    return y.var(ddof=0)  # ddof=0 para la varianza poblacional\n",
    "\n",
    "# Definición de la función para calcular la reducción de la varianza para un punto de corte dado\n",
    "def variance_reduction(X_col, y, split):\n",
    "    filter_l = X_col < split\n",
    "    y_l = y.loc[filter_l]\n",
    "    y_r = y.loc[~filter_l]\n",
    "\n",
    "    n = len(y)\n",
    "    n_l = len(y_l)\n",
    "    n_r = n - n_l\n",
    "\n",
    "    # Ponderar la varianza de los dos nodos\n",
    "    weighted_var = (n_l / n) * variance(y_l) + (n_r / n) * variance(y_r)\n",
    "    \n",
    "    # Reducción de la varianza es la varianza total menos la ponderada\n",
    "    var_reduction = variance(y) - weighted_var\n",
    "    \n",
    "    return var_reduction\n",
    "\n",
    "# Definición de la función best_split para calcular cuál es la mejor variable y punto de corte para hacer la bifurcación del árbol\n",
    "def best_split(X, y, num_pct=10):\n",
    "    \n",
    "    features = range(X.shape[1])\n",
    "    best_split = [0, 0, -np.inf]  # j, split, gain\n",
    "    \n",
    "    # Para todas las variables \n",
    "    for j in features:\n",
    "        \n",
    "        splits = np.percentile(X.iloc[:, j], np.arange(0, 100, 100.0 / (num_pct+1)).tolist())\n",
    "        splits = np.unique(splits)[1:]  # remover duplicados y evitar el mínimo\n",
    "        \n",
    "        # Para cada partición\n",
    "        for split in splits:\n",
    "            gain = variance_reduction(X.iloc[:, j], y, split)\n",
    "                        \n",
    "            if gain > best_split[2]:\n",
    "                best_split = [j, split, gain]\n",
    "    \n",
    "    return best_split\n",
    "\n",
    "# Definición de la función tree_grow para hacer un crecimiento recursivo del árbol\n",
    "def tree_grow(X, y, level=0, min_gain=0.001, max_depth=None, num_pct=10):\n",
    "    \n",
    "    # Si solo es una observación\n",
    "    if X.shape[0] == 1:\n",
    "        return {'y_pred': y.iloc[0], 'level': level, 'split': -1, 'n_samples': 1, 'gain': 0}\n",
    "    \n",
    "    # Si no hay varianza, no se puede hacer más splits\n",
    "    if variance(y) == 0:\n",
    "        return {'y_pred': y.iloc[0], 'level': level, 'split': -1, 'n_samples': len(y), 'gain': 0}\n",
    "\n",
    "    # Calcular la mejor división\n",
    "    j, split, gain = best_split(X, y, num_pct)\n",
    "\n",
    "    # Guardar el árbol y estimar la predicción\n",
    "    y_pred = y.mean()\n",
    "\n",
    "    tree = {'y_pred': y_pred, 'level': level, 'split': -1, 'n_samples': X.shape[0], 'gain': gain}\n",
    "    \n",
    "    # Revisar el criterio de parada \n",
    "    if gain < min_gain:\n",
    "        return tree\n",
    "    if max_depth is not None and level >= max_depth:\n",
    "        return tree\n",
    "\n",
    "    # Continuar creando la partición\n",
    "    filter_l = X.iloc[:, j] < split\n",
    "    X_l, y_l = X.loc[filter_l], y.loc[filter_l]\n",
    "    X_r, y_r = X.loc[~filter_l], y.loc[~filter_l]\n",
    "    tree['split'] = [j, split]\n",
    "\n",
    "    # Siguiente iteración para cada partición\n",
    "    tree['sl'] = tree_grow(X_l, y_l, level + 1, min_gain=min_gain, max_depth=max_depth, num_pct=num_pct)\n",
    "    tree['sr'] = tree_grow(X_r, y_r, level + 1, min_gain=min_gain, max_depth=max_depth, num_pct=num_pct)\n",
    "    \n",
    "    return tree\n",
    "\n",
    "\n",
    "tree = tree_grow(X, y, level=0, min_gain=0.001, max_depth=6, num_pct=10)\n",
    "print(tree)\n"
   ]
  },
  {
   "cell_type": "markdown",
   "metadata": {},
   "source": [
    "### Punto 5 - Árbol de decisión con librería\n",
    "En la celda 5 entrene un árbol de decisiones con la **librería sklearn**, usando las variables predictoras \"season\" y \"hour\" y calibre los parámetros que considere conveniente para obtener un mejor desempeño. Recuerde dividir los datos en conjuntos de entrenamiento y validación para esto. Comente el desempeño del modelo con alguna métrica de desempeño de modelos de regresión y compare desempeño con el modelo del punto 3."
   ]
  },
  {
   "cell_type": "code",
   "execution_count": 13,
   "metadata": {
    "scrolled": true
   },
   "outputs": [
    {
     "name": "stdout",
     "output_type": "stream",
     "text": [
      "Error Cuadrático Medio (MSE): 14979.867384991028\n",
      "Coeficiente de Determinación (R^2): 0.5415555450329284\n",
      " \n",
      "Importancia de las Características:\n",
      "[('hour', 0.8875343356454753), ('season_2', 0.026388305053204542), ('season_3', 0.04921411540298211), ('season_4', 0.0368632438983379)]\n"
     ]
    }
   ],
   "source": [
    "# Celda 5\n",
    "import pandas as pd\n",
    "from sklearn.model_selection import train_test_split\n",
    "from sklearn.tree import DecisionTreeRegressor\n",
    "from sklearn.metrics import mean_squared_error, r2_score\n",
    "from sklearn.metrics import accuracy_score\n",
    "\n",
    "# Asumiendo que 'bikes' es tu DataFrame y ya está definido\n",
    "season_dummies = pd.get_dummies(bikes['season'], prefix='season', drop_first=True)\n",
    "\n",
    "X = pd.concat([bikes['hour'], season_dummies], axis=1)\n",
    "y = bikes['total']\n",
    "\n",
    "# Dividimos los datos en conjuntos de entrenamiento y prueba\n",
    "X_train, X_test, y_train, y_test = train_test_split(X, y, test_size=0.33, random_state=0)\n",
    "\n",
    "# Creamos el modelo de árbol de decisión\n",
    "model = DecisionTreeRegressor(max_depth=6, random_state=1)\n",
    "model.fit(X_train, y_train)\n",
    "\n",
    "y_pred = model.predict(X_test)\n",
    "\n",
    "# Evaluamos el modelo\n",
    "mse = mean_squared_error(y_test, y_pred)\n",
    "r2 = r2_score(y_test, y_pred)\n",
    "\n",
    "\n",
    "# Imprimimos los resultados de evaluación\n",
    "print(f\"Error Cuadrático Medio (MSE): {mse}\")\n",
    "print(f\"Coeficiente de Determinación (R^2): {r2}\")\n",
    "\n",
    "# Imprimir la importancia de las características\n",
    "feature_names = X.columns\n",
    "print(\" \")\n",
    "print(f\"Importancia de las Características:\")\n",
    "print(list(zip(feature_names, model.feature_importances_)))"
   ]
  },
  {
   "cell_type": "markdown",
   "metadata": {},
   "source": [
    "Comparando el modelo de regresión lineal y el árbol de decisión en términos de su desempeño en un conjunto de datos, observamos que el árbol de decisión ofrece resultados superiores. Con un MSE significativamente más bajo e igual a 14979.87 y un coeficiente de determinación (R^2) más del doble que el de la regresión lineal e igual a 0.542. El árbol de decisión muestra una mayor precisión en sus predicciones y una mejor capacidad para explicar la variabilidad de la variable objetivo. Este mejor desempeño puede atribuirse a la capacidad del árbol de decisión para capturar relaciones no lineales y más complejas entre las variables, algo que el modelo de regresión lineal, con su suposición de linealidad, no puede hacer tan eficazmente."
   ]
  },
  {
   "cell_type": "markdown",
   "metadata": {},
   "source": [
    "## Parte B - Métodos de ensamblajes\n",
    "En esta parte del taller se usará el conjunto de datos de Popularidad de Noticias Online. El objetivo es predecir si la notica es popular o no, la popularidad está dada por la cantidad de reacciones en redes sociales. Para más detalles puede visitar el siguiente enlace: [datos](https://archive.ics.uci.edu/ml/datasets/online+news+popularity)."
   ]
  },
  {
   "cell_type": "markdown",
   "metadata": {},
   "source": [
    "### Datos popularidad de noticias"
   ]
  },
  {
   "cell_type": "code",
   "execution_count": 14,
   "metadata": {},
   "outputs": [
    {
     "data": {
      "text/html": [
       "<div>\n",
       "<style scoped>\n",
       "    .dataframe tbody tr th:only-of-type {\n",
       "        vertical-align: middle;\n",
       "    }\n",
       "\n",
       "    .dataframe tbody tr th {\n",
       "        vertical-align: top;\n",
       "    }\n",
       "\n",
       "    .dataframe thead th {\n",
       "        text-align: right;\n",
       "    }\n",
       "</style>\n",
       "<table border=\"1\" class=\"dataframe\">\n",
       "  <thead>\n",
       "    <tr style=\"text-align: right;\">\n",
       "      <th></th>\n",
       "      <th>url</th>\n",
       "      <th>timedelta</th>\n",
       "      <th>n_tokens_title</th>\n",
       "      <th>n_tokens_content</th>\n",
       "      <th>n_unique_tokens</th>\n",
       "      <th>n_non_stop_words</th>\n",
       "      <th>n_non_stop_unique_tokens</th>\n",
       "      <th>num_hrefs</th>\n",
       "      <th>num_self_hrefs</th>\n",
       "      <th>num_imgs</th>\n",
       "      <th>...</th>\n",
       "      <th>min_positive_polarity</th>\n",
       "      <th>max_positive_polarity</th>\n",
       "      <th>avg_negative_polarity</th>\n",
       "      <th>min_negative_polarity</th>\n",
       "      <th>max_negative_polarity</th>\n",
       "      <th>title_subjectivity</th>\n",
       "      <th>title_sentiment_polarity</th>\n",
       "      <th>abs_title_subjectivity</th>\n",
       "      <th>abs_title_sentiment_polarity</th>\n",
       "      <th>Popular</th>\n",
       "    </tr>\n",
       "  </thead>\n",
       "  <tbody>\n",
       "    <tr>\n",
       "      <th>0</th>\n",
       "      <td>http://mashable.com/2014/12/10/cia-torture-rep...</td>\n",
       "      <td>28.0</td>\n",
       "      <td>9.0</td>\n",
       "      <td>188.0</td>\n",
       "      <td>0.732620</td>\n",
       "      <td>1.0</td>\n",
       "      <td>0.844262</td>\n",
       "      <td>5.0</td>\n",
       "      <td>1.0</td>\n",
       "      <td>1.0</td>\n",
       "      <td>...</td>\n",
       "      <td>0.200000</td>\n",
       "      <td>0.80</td>\n",
       "      <td>-0.487500</td>\n",
       "      <td>-0.60</td>\n",
       "      <td>-0.250000</td>\n",
       "      <td>0.9</td>\n",
       "      <td>0.8</td>\n",
       "      <td>0.4</td>\n",
       "      <td>0.8</td>\n",
       "      <td>1</td>\n",
       "    </tr>\n",
       "    <tr>\n",
       "      <th>1</th>\n",
       "      <td>http://mashable.com/2013/10/18/bitlock-kicksta...</td>\n",
       "      <td>447.0</td>\n",
       "      <td>7.0</td>\n",
       "      <td>297.0</td>\n",
       "      <td>0.653199</td>\n",
       "      <td>1.0</td>\n",
       "      <td>0.815789</td>\n",
       "      <td>9.0</td>\n",
       "      <td>4.0</td>\n",
       "      <td>1.0</td>\n",
       "      <td>...</td>\n",
       "      <td>0.160000</td>\n",
       "      <td>0.50</td>\n",
       "      <td>-0.135340</td>\n",
       "      <td>-0.40</td>\n",
       "      <td>-0.050000</td>\n",
       "      <td>0.1</td>\n",
       "      <td>-0.1</td>\n",
       "      <td>0.4</td>\n",
       "      <td>0.1</td>\n",
       "      <td>0</td>\n",
       "    </tr>\n",
       "    <tr>\n",
       "      <th>2</th>\n",
       "      <td>http://mashable.com/2013/07/24/google-glass-po...</td>\n",
       "      <td>533.0</td>\n",
       "      <td>11.0</td>\n",
       "      <td>181.0</td>\n",
       "      <td>0.660377</td>\n",
       "      <td>1.0</td>\n",
       "      <td>0.775701</td>\n",
       "      <td>4.0</td>\n",
       "      <td>3.0</td>\n",
       "      <td>1.0</td>\n",
       "      <td>...</td>\n",
       "      <td>0.136364</td>\n",
       "      <td>1.00</td>\n",
       "      <td>0.000000</td>\n",
       "      <td>0.00</td>\n",
       "      <td>0.000000</td>\n",
       "      <td>0.3</td>\n",
       "      <td>1.0</td>\n",
       "      <td>0.2</td>\n",
       "      <td>1.0</td>\n",
       "      <td>0</td>\n",
       "    </tr>\n",
       "    <tr>\n",
       "      <th>3</th>\n",
       "      <td>http://mashable.com/2013/11/21/these-are-the-m...</td>\n",
       "      <td>413.0</td>\n",
       "      <td>12.0</td>\n",
       "      <td>781.0</td>\n",
       "      <td>0.497409</td>\n",
       "      <td>1.0</td>\n",
       "      <td>0.677350</td>\n",
       "      <td>10.0</td>\n",
       "      <td>3.0</td>\n",
       "      <td>1.0</td>\n",
       "      <td>...</td>\n",
       "      <td>0.100000</td>\n",
       "      <td>1.00</td>\n",
       "      <td>-0.195701</td>\n",
       "      <td>-0.40</td>\n",
       "      <td>-0.071429</td>\n",
       "      <td>0.0</td>\n",
       "      <td>0.0</td>\n",
       "      <td>0.5</td>\n",
       "      <td>0.0</td>\n",
       "      <td>0</td>\n",
       "    </tr>\n",
       "    <tr>\n",
       "      <th>4</th>\n",
       "      <td>http://mashable.com/2014/02/11/parking-ticket-...</td>\n",
       "      <td>331.0</td>\n",
       "      <td>8.0</td>\n",
       "      <td>177.0</td>\n",
       "      <td>0.685714</td>\n",
       "      <td>1.0</td>\n",
       "      <td>0.830357</td>\n",
       "      <td>3.0</td>\n",
       "      <td>2.0</td>\n",
       "      <td>1.0</td>\n",
       "      <td>...</td>\n",
       "      <td>0.100000</td>\n",
       "      <td>0.55</td>\n",
       "      <td>-0.175000</td>\n",
       "      <td>-0.25</td>\n",
       "      <td>-0.100000</td>\n",
       "      <td>0.0</td>\n",
       "      <td>0.0</td>\n",
       "      <td>0.5</td>\n",
       "      <td>0.0</td>\n",
       "      <td>0</td>\n",
       "    </tr>\n",
       "  </tbody>\n",
       "</table>\n",
       "<p>5 rows × 61 columns</p>\n",
       "</div>"
      ],
      "text/plain": [
       "                                                 url  timedelta  \\\n",
       "0  http://mashable.com/2014/12/10/cia-torture-rep...       28.0   \n",
       "1  http://mashable.com/2013/10/18/bitlock-kicksta...      447.0   \n",
       "2  http://mashable.com/2013/07/24/google-glass-po...      533.0   \n",
       "3  http://mashable.com/2013/11/21/these-are-the-m...      413.0   \n",
       "4  http://mashable.com/2014/02/11/parking-ticket-...      331.0   \n",
       "\n",
       "   n_tokens_title  n_tokens_content  n_unique_tokens  n_non_stop_words  \\\n",
       "0             9.0             188.0         0.732620               1.0   \n",
       "1             7.0             297.0         0.653199               1.0   \n",
       "2            11.0             181.0         0.660377               1.0   \n",
       "3            12.0             781.0         0.497409               1.0   \n",
       "4             8.0             177.0         0.685714               1.0   \n",
       "\n",
       "   n_non_stop_unique_tokens  num_hrefs  num_self_hrefs  num_imgs  ...  \\\n",
       "0                  0.844262        5.0             1.0       1.0  ...   \n",
       "1                  0.815789        9.0             4.0       1.0  ...   \n",
       "2                  0.775701        4.0             3.0       1.0  ...   \n",
       "3                  0.677350       10.0             3.0       1.0  ...   \n",
       "4                  0.830357        3.0             2.0       1.0  ...   \n",
       "\n",
       "   min_positive_polarity  max_positive_polarity  avg_negative_polarity  \\\n",
       "0               0.200000                   0.80              -0.487500   \n",
       "1               0.160000                   0.50              -0.135340   \n",
       "2               0.136364                   1.00               0.000000   \n",
       "3               0.100000                   1.00              -0.195701   \n",
       "4               0.100000                   0.55              -0.175000   \n",
       "\n",
       "   min_negative_polarity  max_negative_polarity  title_subjectivity  \\\n",
       "0                  -0.60              -0.250000                 0.9   \n",
       "1                  -0.40              -0.050000                 0.1   \n",
       "2                   0.00               0.000000                 0.3   \n",
       "3                  -0.40              -0.071429                 0.0   \n",
       "4                  -0.25              -0.100000                 0.0   \n",
       "\n",
       "   title_sentiment_polarity  abs_title_subjectivity  \\\n",
       "0                       0.8                     0.4   \n",
       "1                      -0.1                     0.4   \n",
       "2                       1.0                     0.2   \n",
       "3                       0.0                     0.5   \n",
       "4                       0.0                     0.5   \n",
       "\n",
       "   abs_title_sentiment_polarity  Popular  \n",
       "0                           0.8        1  \n",
       "1                           0.1        0  \n",
       "2                           1.0        0  \n",
       "3                           0.0        0  \n",
       "4                           0.0        0  \n",
       "\n",
       "[5 rows x 61 columns]"
      ]
     },
     "execution_count": 14,
     "metadata": {},
     "output_type": "execute_result"
    }
   ],
   "source": [
    "# Lectura de la información de archivo .csv\n",
    "df = pd.read_csv('https://raw.githubusercontent.com/davidzarruk/MIAD_ML_NLP_2023/main/datasets/mashable.csv', index_col=0)\n",
    "df.head()"
   ]
  },
  {
   "cell_type": "code",
   "execution_count": 15,
   "metadata": {},
   "outputs": [
    {
     "data": {
      "text/plain": [
       "0.5"
      ]
     },
     "execution_count": 15,
     "metadata": {},
     "output_type": "execute_result"
    }
   ],
   "source": [
    "# Definición variable de interes y variables predictoras\n",
    "X = df.drop(['url', 'Popular'], axis=1)\n",
    "y = df['Popular']\n",
    "y.mean()"
   ]
  },
  {
   "cell_type": "code",
   "execution_count": 16,
   "metadata": {},
   "outputs": [],
   "source": [
    "# División de la muestra en set de entrenamiento y prueba\n",
    "from sklearn.model_selection import train_test_split\n",
    "X_train, X_test, y_train, y_test = train_test_split(X, y, random_state=1)"
   ]
  },
  {
   "cell_type": "markdown",
   "metadata": {},
   "source": [
    "### Punto 6 - Árbol de decisión y regresión logística\n",
    "En la celda 6 construya un árbol de decisión y una regresión logística. Para el árbol calibre al menos un parámetro y evalúe el desempeño de cada modelo usando las métricas de Accuracy y F1-Score."
   ]
  },
  {
   "cell_type": "code",
   "execution_count": 17,
   "metadata": {},
   "outputs": [
    {
     "name": "stdout",
     "output_type": "stream",
     "text": [
      "Árbol de Decisión - Accuracy: 0.6373333333333333, F1-Score: 0.6356534568536628\n"
     ]
    }
   ],
   "source": [
    "# Celda 6\n",
    "# Crear y entrenar el modelo de árbol de decisión y el modelo de regresión logística\n",
    "from sklearn.tree import DecisionTreeClassifier\n",
    "from sklearn.linear_model import LogisticRegression\n",
    "from sklearn.metrics import accuracy_score, f1_score\n",
    "\n",
    "tree_clf = DecisionTreeClassifier(max_depth=5, random_state=1)  # Calibración simple del parámetro max_depth\n",
    "tree_clf.fit(X_train, y_train)\n",
    "\n",
    "y_pred_tree = tree_clf.predict(X_test)\n",
    "\n",
    "accuracy_tree = accuracy_score(y_test, y_pred_tree)\n",
    "f1_tree = f1_score(y_test, y_pred_tree, average='weighted')\n",
    "\n",
    "print(f\"Árbol de Decisión - Accuracy: {accuracy_tree}, F1-Score: {f1_tree}\")"
   ]
  },
  {
   "cell_type": "code",
   "execution_count": 18,
   "metadata": {},
   "outputs": [
    {
     "name": "stdout",
     "output_type": "stream",
     "text": [
      "Regresión Logística - Accuracy: 0.62, F1-Score: 0.6074380165289257\n"
     ]
    }
   ],
   "source": [
    "log_reg = LogisticRegression(max_iter=1000, random_state=1)\n",
    "log_reg.fit(X_train, y_train)\n",
    "\n",
    "y_pred_log = log_reg.predict(X_test)\n",
    "\n",
    "accuracy_log = accuracy_score(y_test, y_pred_log)\n",
    "f1_log = f1_score(y_test, y_pred_log)\n",
    "\n",
    "print(f\"Regresión Logística - Accuracy: {accuracy_log}, F1-Score: {f1_log}\")"
   ]
  },
  {
   "cell_type": "markdown",
   "metadata": {},
   "source": [
    "### Punto 7 - Votación Mayoritaria\n",
    "En la celda 7 elabore un esamble con la metodología de **Votación mayoritaria** compuesto por 300 muestras bagged donde:\n",
    "\n",
    "-las primeras 100 muestras vienen de árboles de decisión donde max_depth tome un valor de su elección\\\n",
    "-las segundas 100 muestras vienen de árboles de decisión donde min_samples_leaf tome un valor de su elección\\\n",
    "-las últimas 100 muestras vienen de regresiones logísticas\n",
    "\n",
    "Evalúe cada uno de los tres modelos de manera independiente utilizando las métricas de Accuracy y F1-Score, luego evalúe el ensamble de modelos y compare los resultados. \n",
    "\n",
    "Nota: \n",
    "\n",
    "Para este ensamble de 300 modelos, deben hacer votación mayoritaria. Esto lo pueden hacer de distintas maneras. La más \"fácil\" es haciendo la votación \"manualmente\", como se hace a partir del minuto 5:45 del video de Ejemplo práctico de emsablajes en Coursera. Digo que es la más fácil porque si hacen la votación mayoritaria sobre las 300 predicciones van a obtener lo que se espera.\n",
    "\n",
    "Otra opción es: para cada uno de los 3 tipos de modelos, entrenar un ensamble de 100 modelos cada uno. Predecir para cada uno de esos tres ensambles y luego predecir como un ensamble de los 3 ensambles. La cuestión es que la votación mayoritaria al usar los 3 ensambles no necesariamente va a generar el mismo resultado que si hacen la votación mayoritaria directamente sobre los 300 modelos. Entonces, para los que quieran hacer esto, deben hacer ese último cálculo con cuidado.\n",
    "\n",
    "Para los que quieran hacerlo como ensamble de ensambles, digo que se debe hacer el ensamble final con cuidado por lo siguiente. Supongamos que:\n",
    "\n",
    "* para los 100 árboles del primer tipo, la votación mayoritaria es: 55% de los modelos predicen que la clase de una observación es \"1\"\n",
    "* para los 100 árboles del segundo tipo, la votación mayoritaria es: 55% de los modelos predicen que la clase de una observación es \"1\"\n",
    "* para las 100 regresiones logísticas, la votación mayoritaria es: 10% de los modelos predicen que la clase de una observación es \"1\"\n",
    "\n",
    "Si se hace la votación mayoritaria de los 300 modelos, la predicción de esa observación debería ser: (100*55%+100*55%+100*10%)/300 = 40% de los modelos votan porque la predicción debería ser \"1\". Es decir, la predicción del ensamble es \"0\" (dado que menos del 50% de modelos predijo un 1).\n",
    "\n",
    "Sin embargo, si miramos cada ensamble por separado, el primer ensamble predice \"1\", el segundo ensamble predice \"1\" y el último ensamble predice \"0\". Si hago votación mayoritaria sobre esto, la predicción va a ser \"1\", lo cual es distinto a si se hace la votación mayoritaria sobre los 300 modelos."
   ]
  },
  {
   "cell_type": "code",
   "execution_count": 19,
   "metadata": {},
   "outputs": [],
   "source": [
    "# Celda 7\n",
    "from sklearn.tree import DecisionTreeClassifier\n",
    "from sklearn.linear_model import LogisticRegression\n",
    "from sklearn.ensemble import BaggingClassifier\n",
    "from sklearn.base import clone\n",
    "\n",
    "# Parámetros iniciales\n",
    "n_estimators = 100\n",
    "np.random.seed(123)  # Esto debería ser np.random.seed(123) para usar numpy directamente.\n",
    "n_samples = X_train.shape[0]\n",
    "samples = [np.random.choice(a=n_samples, size=n_samples, replace=True) for _ in range(n_estimators)]\n",
    "seeds = np.random.randint(1, 10000, size=n_estimators)\n",
    "tree_max_depth = 5  # Profundidad máxima para el primer conjunto de árboles.\n",
    "tree_min_samples_leaf = 4  # Mínimo número de muestras por hoja para el segundo conjunto de árboles.\n",
    "\n",
    "# Listas para almacenar modelos.\n",
    "models_max_depth = []\n",
    "models_min_samples_leaf = []\n",
    "models_log_reg = []\n",
    "\n",
    "# Entrenamiento de los 100 árboles de decisión con max_depth especificado.\n",
    "for i in range(n_estimators):\n",
    "    model = DecisionTreeClassifier(max_depth=tree_max_depth, random_state=seeds[i])\n",
    "    model.fit(X_train.iloc[samples[i]], y_train.iloc[samples[i]])\n",
    "    models_max_depth.append(model)\n",
    "\n",
    "# Entrenamiento de los 100 árboles de decisión con min_samples_leaf especificado.\n",
    "for i in range(n_estimators):\n",
    "    model = DecisionTreeClassifier(min_samples_leaf=tree_min_samples_leaf, random_state=seeds[i])\n",
    "    model.fit(X_train.iloc[samples[i]], y_train.iloc[samples[i]])\n",
    "    models_min_samples_leaf.append(model) \n",
    "\n",
    "# Entrenamiento de las 100 regresiones logísticas.\n",
    "for i in range(n_estimators):\n",
    "    model = LogisticRegression(max_iter=1000, random_state=seeds[i], solver='liblinear')  # 'solver' es específicado para asegurar convergencia en regresión logística.\n",
    "    model.fit(X_train.iloc[samples[i]], y_train.iloc[samples[i]])\n",
    "    models_log_reg.append(model)"
   ]
  },
  {
   "cell_type": "code",
   "execution_count": 20,
   "metadata": {},
   "outputs": [
    {
     "name": "stdout",
     "output_type": "stream",
     "text": [
      "Árbol max_depth - Accuracy: 0.656, F1-Score: 0.6518218623481782\n",
      "Árbol min_samples_leaf - Accuracy: 0.644, F1-Score: 0.6239436619718309\n",
      "Regresión Logística - Accuracy: 0.6286666666666667, F1-Score: 0.6123869171885873\n"
     ]
    }
   ],
   "source": [
    "from sklearn.metrics import accuracy_score, f1_score\n",
    "\n",
    "# Función para obtener las predicciones de una lista de modelos\n",
    "def get_predictions(models, X):\n",
    "    predictions = np.zeros((X.shape[0], len(models)))\n",
    "    for i, model in enumerate(models):\n",
    "        predictions[:, i] = model.predict(X)\n",
    "    return predictions\n",
    "\n",
    "# Obtener las predicciones para cada conjunto de modelos\n",
    "predictions_max_depth = get_predictions(models_max_depth, X_test)\n",
    "predictions_min_samples_leaf = get_predictions(models_min_samples_leaf, X_test)\n",
    "predictions_log_reg = get_predictions(models_log_reg, X_test)\n",
    "\n",
    "# Función para calcular la votación mayoritaria y evaluar\n",
    "def evaluate_ensemble(predictions, y_true):\n",
    "    # Votación mayoritaria\n",
    "    predictions_majority = np.round(predictions.mean(axis=1)).astype(int)\n",
    "    # Cálculo de métricas\n",
    "    accuracy = accuracy_score(y_true, predictions_majority)\n",
    "    f1 = f1_score(y_true, predictions_majority)\n",
    "    return accuracy, f1\n",
    "\n",
    "# Evaluar cada conjunto de modelos\n",
    "accuracy_max_depth, f1_max_depth = evaluate_ensemble(predictions_max_depth, y_test)\n",
    "accuracy_min_samples_leaf, f1_min_samples_leaf = evaluate_ensemble(predictions_min_samples_leaf, y_test)\n",
    "accuracy_log_reg, f1_log_reg = evaluate_ensemble(predictions_log_reg, y_test)\n",
    "\n",
    "print(f\"Árbol max_depth - Accuracy: {accuracy_max_depth}, F1-Score: {f1_max_depth}\")\n",
    "print(f\"Árbol min_samples_leaf - Accuracy: {accuracy_min_samples_leaf}, F1-Score: {f1_min_samples_leaf}\")\n",
    "print(f\"Regresión Logística - Accuracy: {accuracy_log_reg}, F1-Score: {f1_log_reg}\")\n"
   ]
  },
  {
   "cell_type": "code",
   "execution_count": 21,
   "metadata": {},
   "outputs": [
    {
     "name": "stdout",
     "output_type": "stream",
     "text": [
      "Ensamble Votación Mayoritaria - Accuracy: 0.6393333333333333, F1-Score: 0.6266390614216701\n"
     ]
    }
   ],
   "source": [
    "# Combinar todas las predicciones\n",
    "all_predictions = np.hstack((predictions_max_depth, predictions_min_samples_leaf, predictions_log_reg))\n",
    "\n",
    "# Realizar votación mayoritaria para el ensamble completo\n",
    "accuracy_ensemble, f1_ensemble = evaluate_ensemble(all_predictions, y_test)\n",
    "\n",
    "print(f\"Ensamble Votación Mayoritaria - Accuracy: {accuracy_ensemble}, F1-Score: {f1_ensemble}\")\n"
   ]
  },
  {
   "cell_type": "markdown",
   "metadata": {},
   "source": [
    "### Punto 8 - Votación Ponderada\n",
    "En la celda 8 elabore un ensamble con la metodología de **Votación ponderada** compuesto por 300 muestras bagged para los mismos tres escenarios del punto 7. Evalúe los modelos utilizando las métricas de Accuracy y F1-Score"
   ]
  },
  {
   "cell_type": "code",
   "execution_count": 22,
   "metadata": {},
   "outputs": [],
   "source": [
    "# Celda 8\n",
    "# Función para obtener predicciones probabilísticas de una lista de modelos\n",
    "def get_proba_predictions(models, X):\n",
    "    proba_predictions = np.zeros((X.shape[0], 2, len(models)))\n",
    "    for i, model in enumerate(models):\n",
    "        proba_predictions[:, :, i] = model.predict_proba(X)\n",
    "    return proba_predictions\n",
    "\n",
    "# Obtener las predicciones probabilísticas para cada conjunto de modelos\n",
    "proba_predictions_max_depth = get_proba_predictions(models_max_depth, X_test)\n",
    "proba_predictions_min_samples_leaf = get_proba_predictions(models_min_samples_leaf, X_test)\n",
    "proba_predictions_log_reg = get_proba_predictions(models_log_reg, X_test)"
   ]
  },
  {
   "cell_type": "code",
   "execution_count": 23,
   "metadata": {},
   "outputs": [],
   "source": [
    "# Combinar las predicciones probabilísticas ponderadas\n",
    "combined_proba = (np.mean(proba_predictions_max_depth, axis=2) + \n",
    "                  np.mean(proba_predictions_min_samples_leaf, axis=2) + \n",
    "                  np.mean(proba_predictions_log_reg, axis=2)) / 3\n",
    "\n",
    "# Convertir las probabilidades combinadas en predicciones finales\n",
    "y_pred_weighted = np.argmax(combined_proba, axis=1)"
   ]
  },
  {
   "cell_type": "code",
   "execution_count": 24,
   "metadata": {},
   "outputs": [
    {
     "name": "stdout",
     "output_type": "stream",
     "text": [
      "Ensamble Votación Ponderada - Accuracy: 0.6513333333333333, F1-Score: 0.6501672240802676\n"
     ]
    }
   ],
   "source": [
    "accuracy_weighted = accuracy_score(y_test, y_pred_weighted)\n",
    "f1_weighted = f1_score(y_test, y_pred_weighted)\n",
    "\n",
    "print(f\"Ensamble Votación Ponderada - Accuracy: {accuracy_weighted}, F1-Score: {f1_weighted}\")"
   ]
  },
  {
   "cell_type": "markdown",
   "metadata": {},
   "source": [
    "### Punto 9 - Comparación y análisis de resultados\n",
    "En la celda 9 comente sobre los resultados obtenidos con las metodologías usadas en los puntos 7 y 8, compare los resultados y enuncie posibles ventajas o desventajas de cada una de ellas."
   ]
  },
  {
   "cell_type": "markdown",
   "metadata": {},
   "source": [
    "**Respuesta:**\n",
    "\n",
    "En el ensamble por votación mayoritaria, notamos que el desempeño del ensamble (Accuracy: 0.639, F1-Score: 0.627) se sitúa entre los desempeños individuales de los modelos componentes. Es interesante observar que el árbol de decisión con max_depth específico ofrece el mejor rendimiento individual (Accuracy: 0.656, F1-Score: 0.652), incluso superando al ensamble. Esto podría indicar que, aunque la votación mayoritaria tiene el potencial de mejorar la robustez mediante la combinación de múltiples modelos, no necesariamente garantiza una mejora en el rendimiento sobre el mejor modelo individual en todos los casos. Con la votación ponderada, el ensamble mejora ligeramente en comparación con la votación mayoritaria, alcanzando una Accuracy de 0.651 y un F1-Score de 0.650. Esta mejora sugiere que asignar pesos a las predicciones de los modelos, basándose posiblemente en su confiabilidad o desempeño, puede ofrecer una ventaja al concentrarse más en los modelos que probablemente proporcionen mejores predicciones.\n",
    "\n",
    "La elección entre votación mayoritaria y votación ponderada debe basarse en el equilibrio entre la simplicidad y la búsqueda de un desempeño óptimo. La votación ponderada tiene el potencial de ofrecer mejoras en el rendimiento al considerar la calidad de los modelos componentes, pero esto viene con la complejidad adicional de determinar los pesos adecuados. Por otro lado, la votación mayoritaria, con su simplicidad y robustez inherente, sigue siendo una estrategia valiosa, especialmente cuando los modelos componentes tienen un desempeño similar o cuando se desea evitar el riesgo de sobreajuste."
   ]
  }
 ],
 "metadata": {
  "kernelspec": {
   "display_name": "Python 3 (ipykernel)",
   "language": "python",
   "name": "python3"
  },
  "language_info": {
   "codemirror_mode": {
    "name": "ipython",
    "version": 3
   },
   "file_extension": ".py",
   "mimetype": "text/x-python",
   "name": "python",
   "nbconvert_exporter": "python",
   "pygments_lexer": "ipython3",
   "version": "3.9.12"
  }
 },
 "nbformat": 4,
 "nbformat_minor": 4
}
